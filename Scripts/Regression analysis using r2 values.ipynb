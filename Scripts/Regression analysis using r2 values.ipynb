{
 "cells": [
  {
   "cell_type": "code",
   "execution_count": 1,
   "id": "4358fbf3",
   "metadata": {},
   "outputs": [],
   "source": [
    "# Importing Libraries\n",
    "import pandas as pd\n",
    "import numpy as np\n",
    "import seaborn as sns\n",
    "import matplotlib\n",
    "import matplotlib.pyplot as plt\n",
    "import os\n",
    "import sklearn\n",
    "from sklearn.model_selection import train_test_split \n",
    "from sklearn.linear_model import LinearRegression\n",
    "from sklearn.metrics import mean_squared_error, r2_score"
   ]
  },
  {
   "cell_type": "code",
   "execution_count": 2,
   "id": "452e42bf",
   "metadata": {},
   "outputs": [],
   "source": [
    "# This option ensures that the graphs you create are displayed within the notebook without the need to \"call\" them specifically.\n",
    "\n",
    "%matplotlib inline"
   ]
  },
  {
   "cell_type": "code",
   "execution_count": 3,
   "id": "80d8b3f7",
   "metadata": {},
   "outputs": [],
   "source": [
    "path = r\"C:\\Users\\harip\\Dairy data Analysis\""
   ]
  },
  {
   "cell_type": "code",
   "execution_count": 4,
   "id": "21b7f9f5",
   "metadata": {},
   "outputs": [],
   "source": [
    "# Importing the dataset\n",
    "df= pd.read_csv(os.path.join(path, '02 Data', 'Prepared data', 'Dairy data cleaned.csv'), index_col = 0)"
   ]
  },
  {
   "cell_type": "code",
   "execution_count": 5,
   "id": "c756f2cc",
   "metadata": {},
   "outputs": [
    {
     "data": {
      "text/html": [
       "<div>\n",
       "<style scoped>\n",
       "    .dataframe tbody tr th:only-of-type {\n",
       "        vertical-align: middle;\n",
       "    }\n",
       "\n",
       "    .dataframe tbody tr th {\n",
       "        vertical-align: top;\n",
       "    }\n",
       "\n",
       "    .dataframe thead th {\n",
       "        text-align: right;\n",
       "    }\n",
       "</style>\n",
       "<table border=\"1\" class=\"dataframe\">\n",
       "  <thead>\n",
       "    <tr style=\"text-align: right;\">\n",
       "      <th></th>\n",
       "      <th>States</th>\n",
       "      <th>Total Land Area (acres)</th>\n",
       "      <th>Number of Cows</th>\n",
       "      <th>Farm Size per sq.km</th>\n",
       "      <th>Date recording date</th>\n",
       "      <th>Product ID</th>\n",
       "      <th>Product Name</th>\n",
       "      <th>Brand</th>\n",
       "      <th>Quantity (liters/kg)</th>\n",
       "      <th>Overall Prices</th>\n",
       "      <th>...</th>\n",
       "      <th>Price per Unit (sold)</th>\n",
       "      <th>Approx. Total Revenue(INR)</th>\n",
       "      <th>Customer Location</th>\n",
       "      <th>Sales categories</th>\n",
       "      <th>Quantity in Stock (liters/kg)</th>\n",
       "      <th>Minimum Stock Threshold (liters/kg)</th>\n",
       "      <th>Reorder Quantity (liters/kg)</th>\n",
       "      <th>Year of recording data</th>\n",
       "      <th>Sales</th>\n",
       "      <th>Price flag</th>\n",
       "    </tr>\n",
       "  </thead>\n",
       "  <tbody>\n",
       "    <tr>\n",
       "      <th>0</th>\n",
       "      <td>Telangana</td>\n",
       "      <td>310.84</td>\n",
       "      <td>96</td>\n",
       "      <td>Medium</td>\n",
       "      <td>17/02/2022</td>\n",
       "      <td>5</td>\n",
       "      <td>Ice Cream</td>\n",
       "      <td>Dodla Dairy</td>\n",
       "      <td>222.40</td>\n",
       "      <td>85.72</td>\n",
       "      <td>...</td>\n",
       "      <td>82.24</td>\n",
       "      <td>575.68</td>\n",
       "      <td>Madhya Pradesh</td>\n",
       "      <td>Wholesale</td>\n",
       "      <td>215</td>\n",
       "      <td>19.55</td>\n",
       "      <td>64.03</td>\n",
       "      <td>2022</td>\n",
       "      <td>Low Sales</td>\n",
       "      <td>Moderately priced</td>\n",
       "    </tr>\n",
       "    <tr>\n",
       "      <th>1</th>\n",
       "      <td>Uttar Pradesh</td>\n",
       "      <td>19.19</td>\n",
       "      <td>44</td>\n",
       "      <td>Large</td>\n",
       "      <td>01/12/2021</td>\n",
       "      <td>1</td>\n",
       "      <td>Milk</td>\n",
       "      <td>Amul</td>\n",
       "      <td>687.48</td>\n",
       "      <td>42.61</td>\n",
       "      <td>...</td>\n",
       "      <td>39.24</td>\n",
       "      <td>21895.92</td>\n",
       "      <td>Kerala</td>\n",
       "      <td>Wholesale</td>\n",
       "      <td>129</td>\n",
       "      <td>43.17</td>\n",
       "      <td>181.10</td>\n",
       "      <td>2021</td>\n",
       "      <td>Moderate Sales</td>\n",
       "      <td>Moderately priced</td>\n",
       "    </tr>\n",
       "    <tr>\n",
       "      <th>2</th>\n",
       "      <td>Tamil Nadu</td>\n",
       "      <td>581.69</td>\n",
       "      <td>24</td>\n",
       "      <td>Medium</td>\n",
       "      <td>28/02/2022</td>\n",
       "      <td>4</td>\n",
       "      <td>Yogurt</td>\n",
       "      <td>Dodla Dairy</td>\n",
       "      <td>503.48</td>\n",
       "      <td>36.50</td>\n",
       "      <td>...</td>\n",
       "      <td>33.81</td>\n",
       "      <td>8655.36</td>\n",
       "      <td>Madhya Pradesh</td>\n",
       "      <td>Online</td>\n",
       "      <td>247</td>\n",
       "      <td>15.10</td>\n",
       "      <td>140.83</td>\n",
       "      <td>2022</td>\n",
       "      <td>Low Sales</td>\n",
       "      <td>Moderately priced</td>\n",
       "    </tr>\n",
       "    <tr>\n",
       "      <th>3</th>\n",
       "      <td>Telangana</td>\n",
       "      <td>908.00</td>\n",
       "      <td>89</td>\n",
       "      <td>Small</td>\n",
       "      <td>09/06/2019</td>\n",
       "      <td>3</td>\n",
       "      <td>Cheese</td>\n",
       "      <td>Britannia Industries</td>\n",
       "      <td>823.36</td>\n",
       "      <td>26.52</td>\n",
       "      <td>...</td>\n",
       "      <td>28.92</td>\n",
       "      <td>17380.92</td>\n",
       "      <td>Rajasthan</td>\n",
       "      <td>Online</td>\n",
       "      <td>222</td>\n",
       "      <td>74.50</td>\n",
       "      <td>57.68</td>\n",
       "      <td>2019</td>\n",
       "      <td>Low Sales</td>\n",
       "      <td>Low priced</td>\n",
       "    </tr>\n",
       "    <tr>\n",
       "      <th>4</th>\n",
       "      <td>Maharashtra</td>\n",
       "      <td>861.95</td>\n",
       "      <td>21</td>\n",
       "      <td>Medium</td>\n",
       "      <td>14/12/2020</td>\n",
       "      <td>8</td>\n",
       "      <td>Buttermilk</td>\n",
       "      <td>Mother Dairy</td>\n",
       "      <td>147.77</td>\n",
       "      <td>83.85</td>\n",
       "      <td>...</td>\n",
       "      <td>83.07</td>\n",
       "      <td>12045.15</td>\n",
       "      <td>Jharkhand</td>\n",
       "      <td>Retail</td>\n",
       "      <td>2</td>\n",
       "      <td>76.02</td>\n",
       "      <td>33.40</td>\n",
       "      <td>2020</td>\n",
       "      <td>Low Sales</td>\n",
       "      <td>Moderately priced</td>\n",
       "    </tr>\n",
       "  </tbody>\n",
       "</table>\n",
       "<p>5 rows × 26 columns</p>\n",
       "</div>"
      ],
      "text/plain": [
       "          States  Total Land Area (acres)  Number of Cows Farm Size per sq.km  \\\n",
       "0      Telangana                   310.84              96              Medium   \n",
       "1  Uttar Pradesh                    19.19              44               Large   \n",
       "2     Tamil Nadu                   581.69              24              Medium   \n",
       "3      Telangana                   908.00              89               Small   \n",
       "4    Maharashtra                   861.95              21              Medium   \n",
       "\n",
       "  Date recording date  Product ID Product Name                 Brand  \\\n",
       "0          17/02/2022           5    Ice Cream           Dodla Dairy   \n",
       "1          01/12/2021           1         Milk                  Amul   \n",
       "2          28/02/2022           4       Yogurt           Dodla Dairy   \n",
       "3          09/06/2019           3       Cheese  Britannia Industries   \n",
       "4          14/12/2020           8   Buttermilk          Mother Dairy   \n",
       "\n",
       "   Quantity (liters/kg)  Overall Prices  ...  Price per Unit (sold)  \\\n",
       "0                222.40           85.72  ...                  82.24   \n",
       "1                687.48           42.61  ...                  39.24   \n",
       "2                503.48           36.50  ...                  33.81   \n",
       "3                823.36           26.52  ...                  28.92   \n",
       "4                147.77           83.85  ...                  83.07   \n",
       "\n",
       "   Approx. Total Revenue(INR) Customer Location Sales categories  \\\n",
       "0                      575.68    Madhya Pradesh        Wholesale   \n",
       "1                    21895.92            Kerala        Wholesale   \n",
       "2                     8655.36    Madhya Pradesh           Online   \n",
       "3                    17380.92         Rajasthan           Online   \n",
       "4                    12045.15         Jharkhand           Retail   \n",
       "\n",
       "  Quantity in Stock (liters/kg)  Minimum Stock Threshold (liters/kg)  \\\n",
       "0                           215                                19.55   \n",
       "1                           129                                43.17   \n",
       "2                           247                                15.10   \n",
       "3                           222                                74.50   \n",
       "4                             2                                76.02   \n",
       "\n",
       "   Reorder Quantity (liters/kg)  Year of recording data           Sales  \\\n",
       "0                         64.03                    2022       Low Sales   \n",
       "1                        181.10                    2021  Moderate Sales   \n",
       "2                        140.83                    2022       Low Sales   \n",
       "3                         57.68                    2019       Low Sales   \n",
       "4                         33.40                    2020       Low Sales   \n",
       "\n",
       "          Price flag  \n",
       "0  Moderately priced  \n",
       "1  Moderately priced  \n",
       "2  Moderately priced  \n",
       "3         Low priced  \n",
       "4  Moderately priced  \n",
       "\n",
       "[5 rows x 26 columns]"
      ]
     },
     "execution_count": 5,
     "metadata": {},
     "output_type": "execute_result"
    }
   ],
   "source": [
    "df.head()"
   ]
  },
  {
   "cell_type": "markdown",
   "id": "e636865e",
   "metadata": {},
   "source": [
    "# Data Cleaning"
   ]
  },
  {
   "cell_type": "code",
   "execution_count": 6,
   "id": "77ece04f",
   "metadata": {},
   "outputs": [
    {
     "data": {
      "text/plain": [
       "(4325, 26)"
      ]
     },
     "execution_count": 6,
     "metadata": {},
     "output_type": "execute_result"
    }
   ],
   "source": [
    "df.shape"
   ]
  },
  {
   "cell_type": "code",
   "execution_count": 7,
   "id": "923c34fb",
   "metadata": {},
   "outputs": [
    {
     "data": {
      "text/plain": [
       "States                                 0\n",
       "Total Land Area (acres)                0\n",
       "Number of Cows                         0\n",
       "Farm Size per sq.km                    0\n",
       "Date recording date                    0\n",
       "Product ID                             0\n",
       "Product Name                           0\n",
       "Brand                                  0\n",
       "Quantity (liters/kg)                   0\n",
       "Overall Prices                         0\n",
       "Total Value of products available      0\n",
       "Shelf Life (days)                      0\n",
       "Storage Condition                      0\n",
       "Production Date                        0\n",
       "Expiration Date                        0\n",
       "Quantity Sold (liters/kg)              0\n",
       "Price per Unit (sold)                  0\n",
       "Approx. Total Revenue(INR)             0\n",
       "Customer Location                      0\n",
       "Sales categories                       0\n",
       "Quantity in Stock (liters/kg)          0\n",
       "Minimum Stock Threshold (liters/kg)    0\n",
       "Reorder Quantity (liters/kg)           0\n",
       "Year of recording data                 0\n",
       "Sales                                  0\n",
       "Price flag                             0\n",
       "dtype: int64"
      ]
     },
     "execution_count": 7,
     "metadata": {},
     "output_type": "execute_result"
    }
   ],
   "source": [
    "# Check for missing values\n",
    "df.isnull().sum()"
   ]
  },
  {
   "cell_type": "markdown",
   "id": "158fe45f",
   "metadata": {},
   "source": [
    "No missing values seen"
   ]
  },
  {
   "cell_type": "code",
   "execution_count": 8,
   "id": "074738b9",
   "metadata": {},
   "outputs": [],
   "source": [
    "# Check for duplicates\n",
    "dups = df.duplicated()"
   ]
  },
  {
   "cell_type": "code",
   "execution_count": 9,
   "id": "7c8485fd",
   "metadata": {},
   "outputs": [
    {
     "data": {
      "text/plain": [
       "0       False\n",
       "1       False\n",
       "2       False\n",
       "3       False\n",
       "4       False\n",
       "        ...  \n",
       "4320    False\n",
       "4321    False\n",
       "4322    False\n",
       "4323    False\n",
       "4324    False\n",
       "Length: 4325, dtype: bool"
      ]
     },
     "execution_count": 9,
     "metadata": {},
     "output_type": "execute_result"
    }
   ],
   "source": [
    "dups"
   ]
  },
  {
   "cell_type": "markdown",
   "id": "66634e07",
   "metadata": {},
   "source": [
    "No duplicates seen"
   ]
  },
  {
   "cell_type": "code",
   "execution_count": 10,
   "id": "065bae02",
   "metadata": {},
   "outputs": [
    {
     "name": "stdout",
     "output_type": "stream",
     "text": [
      "<class 'pandas.core.frame.DataFrame'>\n",
      "Int64Index: 4325 entries, 0 to 4324\n",
      "Data columns (total 26 columns):\n",
      " #   Column                               Non-Null Count  Dtype  \n",
      "---  ------                               --------------  -----  \n",
      " 0   States                               4325 non-null   object \n",
      " 1   Total Land Area (acres)              4325 non-null   float64\n",
      " 2   Number of Cows                       4325 non-null   int64  \n",
      " 3   Farm Size per sq.km                  4325 non-null   object \n",
      " 4   Date recording date                  4325 non-null   object \n",
      " 5   Product ID                           4325 non-null   int64  \n",
      " 6   Product Name                         4325 non-null   object \n",
      " 7   Brand                                4325 non-null   object \n",
      " 8   Quantity (liters/kg)                 4325 non-null   float64\n",
      " 9   Overall Prices                       4325 non-null   float64\n",
      " 10  Total Value of products available    4325 non-null   float64\n",
      " 11  Shelf Life (days)                    4325 non-null   int64  \n",
      " 12  Storage Condition                    4325 non-null   object \n",
      " 13  Production Date                      4325 non-null   object \n",
      " 14  Expiration Date                      4325 non-null   object \n",
      " 15  Quantity Sold (liters/kg)            4325 non-null   int64  \n",
      " 16  Price per Unit (sold)                4325 non-null   float64\n",
      " 17  Approx. Total Revenue(INR)           4325 non-null   float64\n",
      " 18  Customer Location                    4325 non-null   object \n",
      " 19  Sales categories                     4325 non-null   object \n",
      " 20  Quantity in Stock (liters/kg)        4325 non-null   int64  \n",
      " 21  Minimum Stock Threshold (liters/kg)  4325 non-null   float64\n",
      " 22  Reorder Quantity (liters/kg)         4325 non-null   float64\n",
      " 23  Year of recording data               4325 non-null   int64  \n",
      " 24  Sales                                4325 non-null   object \n",
      " 25  Price flag                           4325 non-null   object \n",
      "dtypes: float64(8), int64(6), object(12)\n",
      "memory usage: 912.3+ KB\n"
     ]
    }
   ],
   "source": [
    "df.info()"
   ]
  },
  {
   "cell_type": "code",
   "execution_count": 11,
   "id": "6a9fb82e",
   "metadata": {},
   "outputs": [
    {
     "data": {
      "text/html": [
       "<div>\n",
       "<style scoped>\n",
       "    .dataframe tbody tr th:only-of-type {\n",
       "        vertical-align: middle;\n",
       "    }\n",
       "\n",
       "    .dataframe tbody tr th {\n",
       "        vertical-align: top;\n",
       "    }\n",
       "\n",
       "    .dataframe thead th {\n",
       "        text-align: right;\n",
       "    }\n",
       "</style>\n",
       "<table border=\"1\" class=\"dataframe\">\n",
       "  <thead>\n",
       "    <tr style=\"text-align: right;\">\n",
       "      <th></th>\n",
       "      <th>Total Land Area (acres)</th>\n",
       "      <th>Number of Cows</th>\n",
       "      <th>Product ID</th>\n",
       "      <th>Quantity (liters/kg)</th>\n",
       "      <th>Overall Prices</th>\n",
       "      <th>Total Value of products available</th>\n",
       "      <th>Shelf Life (days)</th>\n",
       "      <th>Quantity Sold (liters/kg)</th>\n",
       "      <th>Price per Unit (sold)</th>\n",
       "      <th>Approx. Total Revenue(INR)</th>\n",
       "      <th>Quantity in Stock (liters/kg)</th>\n",
       "      <th>Minimum Stock Threshold (liters/kg)</th>\n",
       "      <th>Reorder Quantity (liters/kg)</th>\n",
       "      <th>Year of recording data</th>\n",
       "    </tr>\n",
       "  </thead>\n",
       "  <tbody>\n",
       "    <tr>\n",
       "      <th>count</th>\n",
       "      <td>4325.000000</td>\n",
       "      <td>4325.000000</td>\n",
       "      <td>4325.000000</td>\n",
       "      <td>4325.000000</td>\n",
       "      <td>4325.000000</td>\n",
       "      <td>4325.000000</td>\n",
       "      <td>4325.000000</td>\n",
       "      <td>4325.000000</td>\n",
       "      <td>4325.00000</td>\n",
       "      <td>4325.000000</td>\n",
       "      <td>4325.000000</td>\n",
       "      <td>4325.000000</td>\n",
       "      <td>4325.000000</td>\n",
       "      <td>4325.000000</td>\n",
       "    </tr>\n",
       "    <tr>\n",
       "      <th>mean</th>\n",
       "      <td>503.483073</td>\n",
       "      <td>54.963699</td>\n",
       "      <td>5.509595</td>\n",
       "      <td>500.652657</td>\n",
       "      <td>54.785938</td>\n",
       "      <td>27357.845411</td>\n",
       "      <td>29.127630</td>\n",
       "      <td>248.095029</td>\n",
       "      <td>54.77914</td>\n",
       "      <td>13580.265401</td>\n",
       "      <td>252.068671</td>\n",
       "      <td>55.826143</td>\n",
       "      <td>109.107820</td>\n",
       "      <td>2020.466358</td>\n",
       "    </tr>\n",
       "    <tr>\n",
       "      <th>std</th>\n",
       "      <td>285.935061</td>\n",
       "      <td>26.111487</td>\n",
       "      <td>2.842979</td>\n",
       "      <td>288.975915</td>\n",
       "      <td>26.002815</td>\n",
       "      <td>21621.051594</td>\n",
       "      <td>30.272114</td>\n",
       "      <td>217.024182</td>\n",
       "      <td>26.19279</td>\n",
       "      <td>14617.009122</td>\n",
       "      <td>223.620870</td>\n",
       "      <td>26.301450</td>\n",
       "      <td>51.501035</td>\n",
       "      <td>1.113822</td>\n",
       "    </tr>\n",
       "    <tr>\n",
       "      <th>min</th>\n",
       "      <td>10.170000</td>\n",
       "      <td>10.000000</td>\n",
       "      <td>1.000000</td>\n",
       "      <td>1.170000</td>\n",
       "      <td>10.030000</td>\n",
       "      <td>42.516500</td>\n",
       "      <td>1.000000</td>\n",
       "      <td>1.000000</td>\n",
       "      <td>5.21000</td>\n",
       "      <td>12.540000</td>\n",
       "      <td>0.000000</td>\n",
       "      <td>10.020000</td>\n",
       "      <td>20.020000</td>\n",
       "      <td>2019.000000</td>\n",
       "    </tr>\n",
       "    <tr>\n",
       "      <th>25%</th>\n",
       "      <td>252.950000</td>\n",
       "      <td>32.000000</td>\n",
       "      <td>3.000000</td>\n",
       "      <td>254.170000</td>\n",
       "      <td>32.460000</td>\n",
       "      <td>9946.814500</td>\n",
       "      <td>10.000000</td>\n",
       "      <td>69.000000</td>\n",
       "      <td>32.64000</td>\n",
       "      <td>2916.650000</td>\n",
       "      <td>66.000000</td>\n",
       "      <td>32.910000</td>\n",
       "      <td>64.280000</td>\n",
       "      <td>2019.000000</td>\n",
       "    </tr>\n",
       "    <tr>\n",
       "      <th>50%</th>\n",
       "      <td>509.170000</td>\n",
       "      <td>55.000000</td>\n",
       "      <td>6.000000</td>\n",
       "      <td>497.550000</td>\n",
       "      <td>54.400000</td>\n",
       "      <td>21869.652900</td>\n",
       "      <td>22.000000</td>\n",
       "      <td>189.000000</td>\n",
       "      <td>54.14000</td>\n",
       "      <td>8394.540000</td>\n",
       "      <td>191.000000</td>\n",
       "      <td>56.460000</td>\n",
       "      <td>108.340000</td>\n",
       "      <td>2020.000000</td>\n",
       "    </tr>\n",
       "    <tr>\n",
       "      <th>75%</th>\n",
       "      <td>751.250000</td>\n",
       "      <td>77.000000</td>\n",
       "      <td>8.000000</td>\n",
       "      <td>749.780000</td>\n",
       "      <td>77.460000</td>\n",
       "      <td>40954.441000</td>\n",
       "      <td>30.000000</td>\n",
       "      <td>374.000000</td>\n",
       "      <td>77.46000</td>\n",
       "      <td>19504.550000</td>\n",
       "      <td>387.000000</td>\n",
       "      <td>79.010000</td>\n",
       "      <td>153.390000</td>\n",
       "      <td>2021.000000</td>\n",
       "    </tr>\n",
       "    <tr>\n",
       "      <th>max</th>\n",
       "      <td>999.530000</td>\n",
       "      <td>100.000000</td>\n",
       "      <td>10.000000</td>\n",
       "      <td>999.930000</td>\n",
       "      <td>99.990000</td>\n",
       "      <td>99036.369600</td>\n",
       "      <td>150.000000</td>\n",
       "      <td>960.000000</td>\n",
       "      <td>104.51000</td>\n",
       "      <td>89108.900000</td>\n",
       "      <td>976.000000</td>\n",
       "      <td>99.990000</td>\n",
       "      <td>199.950000</td>\n",
       "      <td>2022.000000</td>\n",
       "    </tr>\n",
       "  </tbody>\n",
       "</table>\n",
       "</div>"
      ],
      "text/plain": [
       "       Total Land Area (acres)  Number of Cows   Product ID  \\\n",
       "count              4325.000000     4325.000000  4325.000000   \n",
       "mean                503.483073       54.963699     5.509595   \n",
       "std                 285.935061       26.111487     2.842979   \n",
       "min                  10.170000       10.000000     1.000000   \n",
       "25%                 252.950000       32.000000     3.000000   \n",
       "50%                 509.170000       55.000000     6.000000   \n",
       "75%                 751.250000       77.000000     8.000000   \n",
       "max                 999.530000      100.000000    10.000000   \n",
       "\n",
       "       Quantity (liters/kg)  Overall Prices  \\\n",
       "count           4325.000000     4325.000000   \n",
       "mean             500.652657       54.785938   \n",
       "std              288.975915       26.002815   \n",
       "min                1.170000       10.030000   \n",
       "25%              254.170000       32.460000   \n",
       "50%              497.550000       54.400000   \n",
       "75%              749.780000       77.460000   \n",
       "max              999.930000       99.990000   \n",
       "\n",
       "       Total Value of products available  Shelf Life (days)  \\\n",
       "count                        4325.000000        4325.000000   \n",
       "mean                        27357.845411          29.127630   \n",
       "std                         21621.051594          30.272114   \n",
       "min                            42.516500           1.000000   \n",
       "25%                          9946.814500          10.000000   \n",
       "50%                         21869.652900          22.000000   \n",
       "75%                         40954.441000          30.000000   \n",
       "max                         99036.369600         150.000000   \n",
       "\n",
       "       Quantity Sold (liters/kg)  Price per Unit (sold)  \\\n",
       "count                4325.000000             4325.00000   \n",
       "mean                  248.095029               54.77914   \n",
       "std                   217.024182               26.19279   \n",
       "min                     1.000000                5.21000   \n",
       "25%                    69.000000               32.64000   \n",
       "50%                   189.000000               54.14000   \n",
       "75%                   374.000000               77.46000   \n",
       "max                   960.000000              104.51000   \n",
       "\n",
       "       Approx. Total Revenue(INR)  Quantity in Stock (liters/kg)  \\\n",
       "count                 4325.000000                    4325.000000   \n",
       "mean                 13580.265401                     252.068671   \n",
       "std                  14617.009122                     223.620870   \n",
       "min                     12.540000                       0.000000   \n",
       "25%                   2916.650000                      66.000000   \n",
       "50%                   8394.540000                     191.000000   \n",
       "75%                  19504.550000                     387.000000   \n",
       "max                  89108.900000                     976.000000   \n",
       "\n",
       "       Minimum Stock Threshold (liters/kg)  Reorder Quantity (liters/kg)  \\\n",
       "count                          4325.000000                   4325.000000   \n",
       "mean                             55.826143                    109.107820   \n",
       "std                              26.301450                     51.501035   \n",
       "min                              10.020000                     20.020000   \n",
       "25%                              32.910000                     64.280000   \n",
       "50%                              56.460000                    108.340000   \n",
       "75%                              79.010000                    153.390000   \n",
       "max                              99.990000                    199.950000   \n",
       "\n",
       "       Year of recording data  \n",
       "count             4325.000000  \n",
       "mean              2020.466358  \n",
       "std                  1.113822  \n",
       "min               2019.000000  \n",
       "25%               2019.000000  \n",
       "50%               2020.000000  \n",
       "75%               2021.000000  \n",
       "max               2022.000000  "
      ]
     },
     "execution_count": 11,
     "metadata": {},
     "output_type": "execute_result"
    }
   ],
   "source": [
    "df.describe()"
   ]
  },
  {
   "cell_type": "markdown",
   "id": "1d802ee2",
   "metadata": {},
   "source": [
    "# Data preparation for Regression analysis"
   ]
  },
  {
   "cell_type": "markdown",
   "id": "53e3b7a3",
   "metadata": {},
   "source": [
    "### Model 1: Product name vs Quality sold"
   ]
  },
  {
   "cell_type": "code",
   "execution_count": 12,
   "id": "aef6e525",
   "metadata": {},
   "outputs": [],
   "source": [
    "X = df['Product Name']"
   ]
  },
  {
   "cell_type": "code",
   "execution_count": 13,
   "id": "a1417051",
   "metadata": {},
   "outputs": [
    {
     "data": {
      "text/html": [
       "<div>\n",
       "<style scoped>\n",
       "    .dataframe tbody tr th:only-of-type {\n",
       "        vertical-align: middle;\n",
       "    }\n",
       "\n",
       "    .dataframe tbody tr th {\n",
       "        vertical-align: top;\n",
       "    }\n",
       "\n",
       "    .dataframe thead th {\n",
       "        text-align: right;\n",
       "    }\n",
       "</style>\n",
       "<table border=\"1\" class=\"dataframe\">\n",
       "  <thead>\n",
       "    <tr style=\"text-align: right;\">\n",
       "      <th></th>\n",
       "      <th>Buttermilk</th>\n",
       "      <th>Cheese</th>\n",
       "      <th>Curd</th>\n",
       "      <th>Ghee</th>\n",
       "      <th>Ice Cream</th>\n",
       "      <th>Lassi</th>\n",
       "      <th>Milk</th>\n",
       "      <th>Paneer</th>\n",
       "      <th>Yogurt</th>\n",
       "    </tr>\n",
       "  </thead>\n",
       "  <tbody>\n",
       "    <tr>\n",
       "      <th>0</th>\n",
       "      <td>0</td>\n",
       "      <td>0</td>\n",
       "      <td>0</td>\n",
       "      <td>0</td>\n",
       "      <td>1</td>\n",
       "      <td>0</td>\n",
       "      <td>0</td>\n",
       "      <td>0</td>\n",
       "      <td>0</td>\n",
       "    </tr>\n",
       "    <tr>\n",
       "      <th>1</th>\n",
       "      <td>0</td>\n",
       "      <td>0</td>\n",
       "      <td>0</td>\n",
       "      <td>0</td>\n",
       "      <td>0</td>\n",
       "      <td>0</td>\n",
       "      <td>1</td>\n",
       "      <td>0</td>\n",
       "      <td>0</td>\n",
       "    </tr>\n",
       "    <tr>\n",
       "      <th>2</th>\n",
       "      <td>0</td>\n",
       "      <td>0</td>\n",
       "      <td>0</td>\n",
       "      <td>0</td>\n",
       "      <td>0</td>\n",
       "      <td>0</td>\n",
       "      <td>0</td>\n",
       "      <td>0</td>\n",
       "      <td>1</td>\n",
       "    </tr>\n",
       "    <tr>\n",
       "      <th>3</th>\n",
       "      <td>0</td>\n",
       "      <td>1</td>\n",
       "      <td>0</td>\n",
       "      <td>0</td>\n",
       "      <td>0</td>\n",
       "      <td>0</td>\n",
       "      <td>0</td>\n",
       "      <td>0</td>\n",
       "      <td>0</td>\n",
       "    </tr>\n",
       "    <tr>\n",
       "      <th>4</th>\n",
       "      <td>1</td>\n",
       "      <td>0</td>\n",
       "      <td>0</td>\n",
       "      <td>0</td>\n",
       "      <td>0</td>\n",
       "      <td>0</td>\n",
       "      <td>0</td>\n",
       "      <td>0</td>\n",
       "      <td>0</td>\n",
       "    </tr>\n",
       "  </tbody>\n",
       "</table>\n",
       "</div>"
      ],
      "text/plain": [
       "   Buttermilk  Cheese  Curd  Ghee  Ice Cream  Lassi  Milk  Paneer  Yogurt\n",
       "0           0       0     0     0          1      0     0       0       0\n",
       "1           0       0     0     0          0      0     1       0       0\n",
       "2           0       0     0     0          0      0     0       0       1\n",
       "3           0       1     0     0          0      0     0       0       0\n",
       "4           1       0     0     0          0      0     0       0       0"
      ]
     },
     "execution_count": 13,
     "metadata": {},
     "output_type": "execute_result"
    }
   ],
   "source": [
    "X = pd.get_dummies(data = X, drop_first = True)\n",
    "X.head()"
   ]
  },
  {
   "cell_type": "code",
   "execution_count": 14,
   "id": "7e1d9e3a",
   "metadata": {},
   "outputs": [],
   "source": [
    "y = df['Quantity Sold (liters/kg)']"
   ]
  },
  {
   "cell_type": "code",
   "execution_count": 15,
   "id": "9775715b",
   "metadata": {},
   "outputs": [
    {
     "data": {
      "text/plain": [
       "0         7\n",
       "1       558\n",
       "2       256\n",
       "3       601\n",
       "4       145\n",
       "       ... \n",
       "4320    352\n",
       "4321     68\n",
       "4322    141\n",
       "4323      2\n",
       "4324    417\n",
       "Name: Quantity Sold (liters/kg), Length: 4325, dtype: int64"
      ]
     },
     "execution_count": 15,
     "metadata": {},
     "output_type": "execute_result"
    }
   ],
   "source": [
    "y"
   ]
  },
  {
   "cell_type": "code",
   "execution_count": 16,
   "id": "a3dcc164",
   "metadata": {},
   "outputs": [],
   "source": [
    "# Split data into a training set and a test set.  Using test_train_split\n",
    "X_train,X_test,y_train,y_test = train_test_split(X,y,test_size = 0.3,random_state = 0)\n"
   ]
  },
  {
   "cell_type": "markdown",
   "id": "4a89df79",
   "metadata": {},
   "source": [
    "#### Regression Analysis"
   ]
  },
  {
   "cell_type": "code",
   "execution_count": 17,
   "id": "797cc770",
   "metadata": {},
   "outputs": [],
   "source": [
    "# Create regression object\n",
    "regression = LinearRegression()"
   ]
  },
  {
   "cell_type": "code",
   "execution_count": 18,
   "id": "5e5048a0",
   "metadata": {},
   "outputs": [
    {
     "data": {
      "text/html": [
       "<style>#sk-container-id-1 {color: black;background-color: white;}#sk-container-id-1 pre{padding: 0;}#sk-container-id-1 div.sk-toggleable {background-color: white;}#sk-container-id-1 label.sk-toggleable__label {cursor: pointer;display: block;width: 100%;margin-bottom: 0;padding: 0.3em;box-sizing: border-box;text-align: center;}#sk-container-id-1 label.sk-toggleable__label-arrow:before {content: \"▸\";float: left;margin-right: 0.25em;color: #696969;}#sk-container-id-1 label.sk-toggleable__label-arrow:hover:before {color: black;}#sk-container-id-1 div.sk-estimator:hover label.sk-toggleable__label-arrow:before {color: black;}#sk-container-id-1 div.sk-toggleable__content {max-height: 0;max-width: 0;overflow: hidden;text-align: left;background-color: #f0f8ff;}#sk-container-id-1 div.sk-toggleable__content pre {margin: 0.2em;color: black;border-radius: 0.25em;background-color: #f0f8ff;}#sk-container-id-1 input.sk-toggleable__control:checked~div.sk-toggleable__content {max-height: 200px;max-width: 100%;overflow: auto;}#sk-container-id-1 input.sk-toggleable__control:checked~label.sk-toggleable__label-arrow:before {content: \"▾\";}#sk-container-id-1 div.sk-estimator input.sk-toggleable__control:checked~label.sk-toggleable__label {background-color: #d4ebff;}#sk-container-id-1 div.sk-label input.sk-toggleable__control:checked~label.sk-toggleable__label {background-color: #d4ebff;}#sk-container-id-1 input.sk-hidden--visually {border: 0;clip: rect(1px 1px 1px 1px);clip: rect(1px, 1px, 1px, 1px);height: 1px;margin: -1px;overflow: hidden;padding: 0;position: absolute;width: 1px;}#sk-container-id-1 div.sk-estimator {font-family: monospace;background-color: #f0f8ff;border: 1px dotted black;border-radius: 0.25em;box-sizing: border-box;margin-bottom: 0.5em;}#sk-container-id-1 div.sk-estimator:hover {background-color: #d4ebff;}#sk-container-id-1 div.sk-parallel-item::after {content: \"\";width: 100%;border-bottom: 1px solid gray;flex-grow: 1;}#sk-container-id-1 div.sk-label:hover label.sk-toggleable__label {background-color: #d4ebff;}#sk-container-id-1 div.sk-serial::before {content: \"\";position: absolute;border-left: 1px solid gray;box-sizing: border-box;top: 0;bottom: 0;left: 50%;z-index: 0;}#sk-container-id-1 div.sk-serial {display: flex;flex-direction: column;align-items: center;background-color: white;padding-right: 0.2em;padding-left: 0.2em;position: relative;}#sk-container-id-1 div.sk-item {position: relative;z-index: 1;}#sk-container-id-1 div.sk-parallel {display: flex;align-items: stretch;justify-content: center;background-color: white;position: relative;}#sk-container-id-1 div.sk-item::before, #sk-container-id-1 div.sk-parallel-item::before {content: \"\";position: absolute;border-left: 1px solid gray;box-sizing: border-box;top: 0;bottom: 0;left: 50%;z-index: -1;}#sk-container-id-1 div.sk-parallel-item {display: flex;flex-direction: column;z-index: 1;position: relative;background-color: white;}#sk-container-id-1 div.sk-parallel-item:first-child::after {align-self: flex-end;width: 50%;}#sk-container-id-1 div.sk-parallel-item:last-child::after {align-self: flex-start;width: 50%;}#sk-container-id-1 div.sk-parallel-item:only-child::after {width: 0;}#sk-container-id-1 div.sk-dashed-wrapped {border: 1px dashed gray;margin: 0 0.4em 0.5em 0.4em;box-sizing: border-box;padding-bottom: 0.4em;background-color: white;}#sk-container-id-1 div.sk-label label {font-family: monospace;font-weight: bold;display: inline-block;line-height: 1.2em;}#sk-container-id-1 div.sk-label-container {text-align: center;}#sk-container-id-1 div.sk-container {/* jupyter's `normalize.less` sets `[hidden] { display: none; }` but bootstrap.min.css set `[hidden] { display: none !important; }` so we also need the `!important` here to be able to override the default hidden behavior on the sphinx rendered scikit-learn.org. See: https://github.com/scikit-learn/scikit-learn/issues/21755 */display: inline-block !important;position: relative;}#sk-container-id-1 div.sk-text-repr-fallback {display: none;}</style><div id=\"sk-container-id-1\" class=\"sk-top-container\"><div class=\"sk-text-repr-fallback\"><pre>LinearRegression()</pre><b>In a Jupyter environment, please rerun this cell to show the HTML representation or trust the notebook. <br />On GitHub, the HTML representation is unable to render, please try loading this page with nbviewer.org.</b></div><div class=\"sk-container\" hidden><div class=\"sk-item\"><div class=\"sk-estimator sk-toggleable\"><input class=\"sk-toggleable__control sk-hidden--visually\" id=\"sk-estimator-id-1\" type=\"checkbox\" checked><label for=\"sk-estimator-id-1\" class=\"sk-toggleable__label sk-toggleable__label-arrow\">LinearRegression</label><div class=\"sk-toggleable__content\"><pre>LinearRegression()</pre></div></div></div></div></div>"
      ],
      "text/plain": [
       "LinearRegression()"
      ]
     },
     "execution_count": 18,
     "metadata": {},
     "output_type": "execute_result"
    }
   ],
   "source": [
    "# Fit the regression to the training set of each variable.  This trains the model.\n",
    "regression.fit(X_train, y_train)"
   ]
  },
  {
   "cell_type": "code",
   "execution_count": 19,
   "id": "d87e1788",
   "metadata": {},
   "outputs": [],
   "source": [
    "# Apply model to x_test data to predict y values\n",
    "y_predicted = regression.predict(X_test)"
   ]
  },
  {
   "cell_type": "code",
   "execution_count": 20,
   "id": "eb533cbe",
   "metadata": {},
   "outputs": [],
   "source": [
    "# Check the slope, MSE and R2 score.\n",
    "rmse = mean_squared_error(y_test, y_predicted)\n",
    "r2 = r2_score(y_test, y_predicted)"
   ]
  },
  {
   "cell_type": "code",
   "execution_count": 21,
   "id": "d12b096d",
   "metadata": {},
   "outputs": [
    {
     "name": "stdout",
     "output_type": "stream",
     "text": [
      "Slope: [-23.3121886  -12.95976266  -6.7019167  -13.3332811  -11.7527041\n",
      "  -6.40997181  -7.40323408 -10.36577315  -4.462191  ]\n",
      "Mean squared error:  43988.40269434572\n",
      "R2 score:  -0.007286734329557509\n"
     ]
    }
   ],
   "source": [
    "# Print the model summary statistics. This is where you evaluate the performance of the model.\n",
    "\n",
    "print('Slope:' ,regression.coef_)\n",
    "print('Mean squared error: ', rmse)\n",
    "print('R2 score: ', r2)"
   ]
  },
  {
   "cell_type": "markdown",
   "id": "7f5db2a1",
   "metadata": {},
   "source": [
    "From the summary statistics, the model is showing that these two variables are not a good fit as the slope, r2 values showing negative trend and it is confirmed by the higher rmse values."
   ]
  },
  {
   "cell_type": "markdown",
   "id": "8cb4a7f2",
   "metadata": {},
   "source": [
    "#### training set"
   ]
  },
  {
   "cell_type": "code",
   "execution_count": 22,
   "id": "44617c91",
   "metadata": {},
   "outputs": [],
   "source": [
    "# Predict on the training set\n",
    "\n",
    "y_predicted_train = regression.predict(X_train)"
   ]
  },
  {
   "cell_type": "code",
   "execution_count": 23,
   "id": "3b4bd350",
   "metadata": {},
   "outputs": [],
   "source": [
    "rmse = mean_squared_error(y_train, y_predicted_train)\n",
    "r2 = r2_score(y_train, y_predicted_train)"
   ]
  },
  {
   "cell_type": "code",
   "execution_count": 24,
   "id": "9f3eff14",
   "metadata": {},
   "outputs": [
    {
     "name": "stdout",
     "output_type": "stream",
     "text": [
      "Slope: [-23.3121886  -12.95976266  -6.7019167  -13.3332811  -11.7527041\n",
      "  -6.40997181  -7.40323408 -10.36577315  -4.462191  ]\n",
      "Mean squared error:  48429.77980957894\n",
      "R2 score:  0.0007799558596361944\n"
     ]
    }
   ],
   "source": [
    "print('Slope:' ,regression.coef_)\n",
    "print('Mean squared error: ', rmse)\n",
    "print('R2 score: ', r2)"
   ]
  },
  {
   "cell_type": "markdown",
   "id": "07fa1300",
   "metadata": {},
   "source": [
    "From the training set, the model outcome are almost similar to the test set. But could see a significant increase in r2 values from negative to positive but still remains so less indicating that the model is not a good fit."
   ]
  },
  {
   "cell_type": "markdown",
   "id": "5dd4084d",
   "metadata": {},
   "source": [
    "## Model 2: Product names and Approx total revenue."
   ]
  },
  {
   "cell_type": "code",
   "execution_count": 25,
   "id": "3e6a1f58",
   "metadata": {},
   "outputs": [
    {
     "data": {
      "text/html": [
       "<div>\n",
       "<style scoped>\n",
       "    .dataframe tbody tr th:only-of-type {\n",
       "        vertical-align: middle;\n",
       "    }\n",
       "\n",
       "    .dataframe tbody tr th {\n",
       "        vertical-align: top;\n",
       "    }\n",
       "\n",
       "    .dataframe thead th {\n",
       "        text-align: right;\n",
       "    }\n",
       "</style>\n",
       "<table border=\"1\" class=\"dataframe\">\n",
       "  <thead>\n",
       "    <tr style=\"text-align: right;\">\n",
       "      <th></th>\n",
       "      <th>Buttermilk</th>\n",
       "      <th>Cheese</th>\n",
       "      <th>Curd</th>\n",
       "      <th>Ghee</th>\n",
       "      <th>Ice Cream</th>\n",
       "      <th>Lassi</th>\n",
       "      <th>Milk</th>\n",
       "      <th>Paneer</th>\n",
       "      <th>Yogurt</th>\n",
       "    </tr>\n",
       "  </thead>\n",
       "  <tbody>\n",
       "    <tr>\n",
       "      <th>0</th>\n",
       "      <td>0</td>\n",
       "      <td>0</td>\n",
       "      <td>0</td>\n",
       "      <td>0</td>\n",
       "      <td>1</td>\n",
       "      <td>0</td>\n",
       "      <td>0</td>\n",
       "      <td>0</td>\n",
       "      <td>0</td>\n",
       "    </tr>\n",
       "    <tr>\n",
       "      <th>1</th>\n",
       "      <td>0</td>\n",
       "      <td>0</td>\n",
       "      <td>0</td>\n",
       "      <td>0</td>\n",
       "      <td>0</td>\n",
       "      <td>0</td>\n",
       "      <td>1</td>\n",
       "      <td>0</td>\n",
       "      <td>0</td>\n",
       "    </tr>\n",
       "    <tr>\n",
       "      <th>2</th>\n",
       "      <td>0</td>\n",
       "      <td>0</td>\n",
       "      <td>0</td>\n",
       "      <td>0</td>\n",
       "      <td>0</td>\n",
       "      <td>0</td>\n",
       "      <td>0</td>\n",
       "      <td>0</td>\n",
       "      <td>1</td>\n",
       "    </tr>\n",
       "    <tr>\n",
       "      <th>3</th>\n",
       "      <td>0</td>\n",
       "      <td>1</td>\n",
       "      <td>0</td>\n",
       "      <td>0</td>\n",
       "      <td>0</td>\n",
       "      <td>0</td>\n",
       "      <td>0</td>\n",
       "      <td>0</td>\n",
       "      <td>0</td>\n",
       "    </tr>\n",
       "    <tr>\n",
       "      <th>4</th>\n",
       "      <td>1</td>\n",
       "      <td>0</td>\n",
       "      <td>0</td>\n",
       "      <td>0</td>\n",
       "      <td>0</td>\n",
       "      <td>0</td>\n",
       "      <td>0</td>\n",
       "      <td>0</td>\n",
       "      <td>0</td>\n",
       "    </tr>\n",
       "    <tr>\n",
       "      <th>...</th>\n",
       "      <td>...</td>\n",
       "      <td>...</td>\n",
       "      <td>...</td>\n",
       "      <td>...</td>\n",
       "      <td>...</td>\n",
       "      <td>...</td>\n",
       "      <td>...</td>\n",
       "      <td>...</td>\n",
       "      <td>...</td>\n",
       "    </tr>\n",
       "    <tr>\n",
       "      <th>4320</th>\n",
       "      <td>0</td>\n",
       "      <td>0</td>\n",
       "      <td>1</td>\n",
       "      <td>0</td>\n",
       "      <td>0</td>\n",
       "      <td>0</td>\n",
       "      <td>0</td>\n",
       "      <td>0</td>\n",
       "      <td>0</td>\n",
       "    </tr>\n",
       "    <tr>\n",
       "      <th>4321</th>\n",
       "      <td>0</td>\n",
       "      <td>0</td>\n",
       "      <td>0</td>\n",
       "      <td>0</td>\n",
       "      <td>0</td>\n",
       "      <td>0</td>\n",
       "      <td>0</td>\n",
       "      <td>0</td>\n",
       "      <td>1</td>\n",
       "    </tr>\n",
       "    <tr>\n",
       "      <th>4322</th>\n",
       "      <td>0</td>\n",
       "      <td>0</td>\n",
       "      <td>1</td>\n",
       "      <td>0</td>\n",
       "      <td>0</td>\n",
       "      <td>0</td>\n",
       "      <td>0</td>\n",
       "      <td>0</td>\n",
       "      <td>0</td>\n",
       "    </tr>\n",
       "    <tr>\n",
       "      <th>4323</th>\n",
       "      <td>0</td>\n",
       "      <td>0</td>\n",
       "      <td>1</td>\n",
       "      <td>0</td>\n",
       "      <td>0</td>\n",
       "      <td>0</td>\n",
       "      <td>0</td>\n",
       "      <td>0</td>\n",
       "      <td>0</td>\n",
       "    </tr>\n",
       "    <tr>\n",
       "      <th>4324</th>\n",
       "      <td>0</td>\n",
       "      <td>0</td>\n",
       "      <td>0</td>\n",
       "      <td>0</td>\n",
       "      <td>0</td>\n",
       "      <td>0</td>\n",
       "      <td>1</td>\n",
       "      <td>0</td>\n",
       "      <td>0</td>\n",
       "    </tr>\n",
       "  </tbody>\n",
       "</table>\n",
       "<p>4325 rows × 9 columns</p>\n",
       "</div>"
      ],
      "text/plain": [
       "      Buttermilk  Cheese  Curd  Ghee  Ice Cream  Lassi  Milk  Paneer  Yogurt\n",
       "0              0       0     0     0          1      0     0       0       0\n",
       "1              0       0     0     0          0      0     1       0       0\n",
       "2              0       0     0     0          0      0     0       0       1\n",
       "3              0       1     0     0          0      0     0       0       0\n",
       "4              1       0     0     0          0      0     0       0       0\n",
       "...          ...     ...   ...   ...        ...    ...   ...     ...     ...\n",
       "4320           0       0     1     0          0      0     0       0       0\n",
       "4321           0       0     0     0          0      0     0       0       1\n",
       "4322           0       0     1     0          0      0     0       0       0\n",
       "4323           0       0     1     0          0      0     0       0       0\n",
       "4324           0       0     0     0          0      0     1       0       0\n",
       "\n",
       "[4325 rows x 9 columns]"
      ]
     },
     "execution_count": 25,
     "metadata": {},
     "output_type": "execute_result"
    }
   ],
   "source": [
    "X"
   ]
  },
  {
   "cell_type": "code",
   "execution_count": 26,
   "id": "b1691087",
   "metadata": {},
   "outputs": [],
   "source": [
    "y1 = df['Approx. Total Revenue(INR)']"
   ]
  },
  {
   "cell_type": "code",
   "execution_count": 27,
   "id": "3cd9d52f",
   "metadata": {},
   "outputs": [
    {
     "data": {
      "text/plain": [
       "0         575.68\n",
       "1       21895.92\n",
       "2        8655.36\n",
       "3       17380.92\n",
       "4       12045.15\n",
       "          ...   \n",
       "4320    30694.40\n",
       "4321     3970.52\n",
       "4322    12613.86\n",
       "4323       21.12\n",
       "4324    18577.35\n",
       "Name: Approx. Total Revenue(INR), Length: 4325, dtype: float64"
      ]
     },
     "execution_count": 27,
     "metadata": {},
     "output_type": "execute_result"
    }
   ],
   "source": [
    "y1"
   ]
  },
  {
   "cell_type": "code",
   "execution_count": 28,
   "id": "4351ada2",
   "metadata": {},
   "outputs": [],
   "source": [
    "# Split data into a training set and a test set.  Using test_train_split\n",
    "X_train,X_test,y1_train,y1_test = train_test_split(X,y1,test_size = 0.3,random_state = 0)\n"
   ]
  },
  {
   "cell_type": "code",
   "execution_count": 29,
   "id": "2f76b305",
   "metadata": {},
   "outputs": [
    {
     "data": {
      "text/html": [
       "<style>#sk-container-id-2 {color: black;background-color: white;}#sk-container-id-2 pre{padding: 0;}#sk-container-id-2 div.sk-toggleable {background-color: white;}#sk-container-id-2 label.sk-toggleable__label {cursor: pointer;display: block;width: 100%;margin-bottom: 0;padding: 0.3em;box-sizing: border-box;text-align: center;}#sk-container-id-2 label.sk-toggleable__label-arrow:before {content: \"▸\";float: left;margin-right: 0.25em;color: #696969;}#sk-container-id-2 label.sk-toggleable__label-arrow:hover:before {color: black;}#sk-container-id-2 div.sk-estimator:hover label.sk-toggleable__label-arrow:before {color: black;}#sk-container-id-2 div.sk-toggleable__content {max-height: 0;max-width: 0;overflow: hidden;text-align: left;background-color: #f0f8ff;}#sk-container-id-2 div.sk-toggleable__content pre {margin: 0.2em;color: black;border-radius: 0.25em;background-color: #f0f8ff;}#sk-container-id-2 input.sk-toggleable__control:checked~div.sk-toggleable__content {max-height: 200px;max-width: 100%;overflow: auto;}#sk-container-id-2 input.sk-toggleable__control:checked~label.sk-toggleable__label-arrow:before {content: \"▾\";}#sk-container-id-2 div.sk-estimator input.sk-toggleable__control:checked~label.sk-toggleable__label {background-color: #d4ebff;}#sk-container-id-2 div.sk-label input.sk-toggleable__control:checked~label.sk-toggleable__label {background-color: #d4ebff;}#sk-container-id-2 input.sk-hidden--visually {border: 0;clip: rect(1px 1px 1px 1px);clip: rect(1px, 1px, 1px, 1px);height: 1px;margin: -1px;overflow: hidden;padding: 0;position: absolute;width: 1px;}#sk-container-id-2 div.sk-estimator {font-family: monospace;background-color: #f0f8ff;border: 1px dotted black;border-radius: 0.25em;box-sizing: border-box;margin-bottom: 0.5em;}#sk-container-id-2 div.sk-estimator:hover {background-color: #d4ebff;}#sk-container-id-2 div.sk-parallel-item::after {content: \"\";width: 100%;border-bottom: 1px solid gray;flex-grow: 1;}#sk-container-id-2 div.sk-label:hover label.sk-toggleable__label {background-color: #d4ebff;}#sk-container-id-2 div.sk-serial::before {content: \"\";position: absolute;border-left: 1px solid gray;box-sizing: border-box;top: 0;bottom: 0;left: 50%;z-index: 0;}#sk-container-id-2 div.sk-serial {display: flex;flex-direction: column;align-items: center;background-color: white;padding-right: 0.2em;padding-left: 0.2em;position: relative;}#sk-container-id-2 div.sk-item {position: relative;z-index: 1;}#sk-container-id-2 div.sk-parallel {display: flex;align-items: stretch;justify-content: center;background-color: white;position: relative;}#sk-container-id-2 div.sk-item::before, #sk-container-id-2 div.sk-parallel-item::before {content: \"\";position: absolute;border-left: 1px solid gray;box-sizing: border-box;top: 0;bottom: 0;left: 50%;z-index: -1;}#sk-container-id-2 div.sk-parallel-item {display: flex;flex-direction: column;z-index: 1;position: relative;background-color: white;}#sk-container-id-2 div.sk-parallel-item:first-child::after {align-self: flex-end;width: 50%;}#sk-container-id-2 div.sk-parallel-item:last-child::after {align-self: flex-start;width: 50%;}#sk-container-id-2 div.sk-parallel-item:only-child::after {width: 0;}#sk-container-id-2 div.sk-dashed-wrapped {border: 1px dashed gray;margin: 0 0.4em 0.5em 0.4em;box-sizing: border-box;padding-bottom: 0.4em;background-color: white;}#sk-container-id-2 div.sk-label label {font-family: monospace;font-weight: bold;display: inline-block;line-height: 1.2em;}#sk-container-id-2 div.sk-label-container {text-align: center;}#sk-container-id-2 div.sk-container {/* jupyter's `normalize.less` sets `[hidden] { display: none; }` but bootstrap.min.css set `[hidden] { display: none !important; }` so we also need the `!important` here to be able to override the default hidden behavior on the sphinx rendered scikit-learn.org. See: https://github.com/scikit-learn/scikit-learn/issues/21755 */display: inline-block !important;position: relative;}#sk-container-id-2 div.sk-text-repr-fallback {display: none;}</style><div id=\"sk-container-id-2\" class=\"sk-top-container\"><div class=\"sk-text-repr-fallback\"><pre>LinearRegression()</pre><b>In a Jupyter environment, please rerun this cell to show the HTML representation or trust the notebook. <br />On GitHub, the HTML representation is unable to render, please try loading this page with nbviewer.org.</b></div><div class=\"sk-container\" hidden><div class=\"sk-item\"><div class=\"sk-estimator sk-toggleable\"><input class=\"sk-toggleable__control sk-hidden--visually\" id=\"sk-estimator-id-2\" type=\"checkbox\" checked><label for=\"sk-estimator-id-2\" class=\"sk-toggleable__label sk-toggleable__label-arrow\">LinearRegression</label><div class=\"sk-toggleable__content\"><pre>LinearRegression()</pre></div></div></div></div></div>"
      ],
      "text/plain": [
       "LinearRegression()"
      ]
     },
     "execution_count": 29,
     "metadata": {},
     "output_type": "execute_result"
    }
   ],
   "source": [
    "# Fit the regression to the training set of each variable.  This trains the model.\n",
    "regression.fit(X_train, y1_train)"
   ]
  },
  {
   "cell_type": "code",
   "execution_count": 30,
   "id": "f4f122c6",
   "metadata": {},
   "outputs": [],
   "source": [
    "# Apply model to x_test data to predict y values\n",
    "y1_predicted = regression.predict(X_test)"
   ]
  },
  {
   "cell_type": "code",
   "execution_count": 31,
   "id": "08042702",
   "metadata": {},
   "outputs": [],
   "source": [
    "# Check the slope, MSE and R2 score.\n",
    "rmse = mean_squared_error(y1_test, y1_predicted)\n",
    "r2 = r2_score(y1_test, y1_predicted)"
   ]
  },
  {
   "cell_type": "code",
   "execution_count": 32,
   "id": "09fc3016",
   "metadata": {},
   "outputs": [
    {
     "name": "stdout",
     "output_type": "stream",
     "text": [
      "Slope: [-1112.69095973 -1745.66342941  -459.19225883 -1794.30128773\n",
      " -2652.26637482 -1313.29338425  -726.07910461 -1182.7202613\n",
      " -1265.01966016]\n",
      "Mean squared error:  187877755.8774392\n",
      "R2 score:  -0.016554524081113353\n"
     ]
    }
   ],
   "source": [
    "# Print the model summary statistics. This is where you evaluate the performance of the model.\n",
    "\n",
    "print('Slope:' ,regression.coef_)\n",
    "print('Mean squared error: ', rmse)\n",
    "print('R2 score: ', r2)"
   ]
  },
  {
   "cell_type": "markdown",
   "id": "8aa24774",
   "metadata": {},
   "source": [
    "## Testing with training set"
   ]
  },
  {
   "cell_type": "code",
   "execution_count": 33,
   "id": "b0ce1c02",
   "metadata": {},
   "outputs": [],
   "source": [
    "# Predict on the training set\n",
    "\n",
    "y1_predicted_train = regression.predict(X_train)"
   ]
  },
  {
   "cell_type": "code",
   "execution_count": 34,
   "id": "6346f35a",
   "metadata": {},
   "outputs": [],
   "source": [
    "rmse = mean_squared_error(y1_train, y1_predicted_train)\n",
    "r2 = r2_score(y_train, y_predicted_train)"
   ]
  },
  {
   "cell_type": "code",
   "execution_count": 35,
   "id": "cc8dec1c",
   "metadata": {},
   "outputs": [
    {
     "name": "stdout",
     "output_type": "stream",
     "text": [
      "Slope: [-1112.69095973 -1745.66342941  -459.19225883 -1794.30128773\n",
      " -2652.26637482 -1313.29338425  -726.07910461 -1182.7202613\n",
      " -1265.01966016]\n",
      "Mean squared error:  224729006.6246692\n",
      "R2 score:  0.0007799558596361944\n"
     ]
    }
   ],
   "source": [
    "print('Slope:' ,regression.coef_)\n",
    "print('Mean squared error: ', rmse)\n",
    "print('R2 score: ', r2)"
   ]
  },
  {
   "cell_type": "markdown",
   "id": "a63a25f8",
   "metadata": {},
   "source": [
    "From the test and training set, the model outcome is not a good fit seeing the r2 value which is comparably very less."
   ]
  },
  {
   "cell_type": "markdown",
   "id": "52da05d7",
   "metadata": {},
   "source": [
    "# Model 3: Product name and Minimum stock threshold"
   ]
  },
  {
   "cell_type": "code",
   "execution_count": 36,
   "id": "9fe91788",
   "metadata": {},
   "outputs": [
    {
     "data": {
      "text/html": [
       "<div>\n",
       "<style scoped>\n",
       "    .dataframe tbody tr th:only-of-type {\n",
       "        vertical-align: middle;\n",
       "    }\n",
       "\n",
       "    .dataframe tbody tr th {\n",
       "        vertical-align: top;\n",
       "    }\n",
       "\n",
       "    .dataframe thead th {\n",
       "        text-align: right;\n",
       "    }\n",
       "</style>\n",
       "<table border=\"1\" class=\"dataframe\">\n",
       "  <thead>\n",
       "    <tr style=\"text-align: right;\">\n",
       "      <th></th>\n",
       "      <th>Buttermilk</th>\n",
       "      <th>Cheese</th>\n",
       "      <th>Curd</th>\n",
       "      <th>Ghee</th>\n",
       "      <th>Ice Cream</th>\n",
       "      <th>Lassi</th>\n",
       "      <th>Milk</th>\n",
       "      <th>Paneer</th>\n",
       "      <th>Yogurt</th>\n",
       "    </tr>\n",
       "  </thead>\n",
       "  <tbody>\n",
       "    <tr>\n",
       "      <th>0</th>\n",
       "      <td>0</td>\n",
       "      <td>0</td>\n",
       "      <td>0</td>\n",
       "      <td>0</td>\n",
       "      <td>1</td>\n",
       "      <td>0</td>\n",
       "      <td>0</td>\n",
       "      <td>0</td>\n",
       "      <td>0</td>\n",
       "    </tr>\n",
       "    <tr>\n",
       "      <th>1</th>\n",
       "      <td>0</td>\n",
       "      <td>0</td>\n",
       "      <td>0</td>\n",
       "      <td>0</td>\n",
       "      <td>0</td>\n",
       "      <td>0</td>\n",
       "      <td>1</td>\n",
       "      <td>0</td>\n",
       "      <td>0</td>\n",
       "    </tr>\n",
       "    <tr>\n",
       "      <th>2</th>\n",
       "      <td>0</td>\n",
       "      <td>0</td>\n",
       "      <td>0</td>\n",
       "      <td>0</td>\n",
       "      <td>0</td>\n",
       "      <td>0</td>\n",
       "      <td>0</td>\n",
       "      <td>0</td>\n",
       "      <td>1</td>\n",
       "    </tr>\n",
       "    <tr>\n",
       "      <th>3</th>\n",
       "      <td>0</td>\n",
       "      <td>1</td>\n",
       "      <td>0</td>\n",
       "      <td>0</td>\n",
       "      <td>0</td>\n",
       "      <td>0</td>\n",
       "      <td>0</td>\n",
       "      <td>0</td>\n",
       "      <td>0</td>\n",
       "    </tr>\n",
       "    <tr>\n",
       "      <th>4</th>\n",
       "      <td>1</td>\n",
       "      <td>0</td>\n",
       "      <td>0</td>\n",
       "      <td>0</td>\n",
       "      <td>0</td>\n",
       "      <td>0</td>\n",
       "      <td>0</td>\n",
       "      <td>0</td>\n",
       "      <td>0</td>\n",
       "    </tr>\n",
       "    <tr>\n",
       "      <th>...</th>\n",
       "      <td>...</td>\n",
       "      <td>...</td>\n",
       "      <td>...</td>\n",
       "      <td>...</td>\n",
       "      <td>...</td>\n",
       "      <td>...</td>\n",
       "      <td>...</td>\n",
       "      <td>...</td>\n",
       "      <td>...</td>\n",
       "    </tr>\n",
       "    <tr>\n",
       "      <th>4320</th>\n",
       "      <td>0</td>\n",
       "      <td>0</td>\n",
       "      <td>1</td>\n",
       "      <td>0</td>\n",
       "      <td>0</td>\n",
       "      <td>0</td>\n",
       "      <td>0</td>\n",
       "      <td>0</td>\n",
       "      <td>0</td>\n",
       "    </tr>\n",
       "    <tr>\n",
       "      <th>4321</th>\n",
       "      <td>0</td>\n",
       "      <td>0</td>\n",
       "      <td>0</td>\n",
       "      <td>0</td>\n",
       "      <td>0</td>\n",
       "      <td>0</td>\n",
       "      <td>0</td>\n",
       "      <td>0</td>\n",
       "      <td>1</td>\n",
       "    </tr>\n",
       "    <tr>\n",
       "      <th>4322</th>\n",
       "      <td>0</td>\n",
       "      <td>0</td>\n",
       "      <td>1</td>\n",
       "      <td>0</td>\n",
       "      <td>0</td>\n",
       "      <td>0</td>\n",
       "      <td>0</td>\n",
       "      <td>0</td>\n",
       "      <td>0</td>\n",
       "    </tr>\n",
       "    <tr>\n",
       "      <th>4323</th>\n",
       "      <td>0</td>\n",
       "      <td>0</td>\n",
       "      <td>1</td>\n",
       "      <td>0</td>\n",
       "      <td>0</td>\n",
       "      <td>0</td>\n",
       "      <td>0</td>\n",
       "      <td>0</td>\n",
       "      <td>0</td>\n",
       "    </tr>\n",
       "    <tr>\n",
       "      <th>4324</th>\n",
       "      <td>0</td>\n",
       "      <td>0</td>\n",
       "      <td>0</td>\n",
       "      <td>0</td>\n",
       "      <td>0</td>\n",
       "      <td>0</td>\n",
       "      <td>1</td>\n",
       "      <td>0</td>\n",
       "      <td>0</td>\n",
       "    </tr>\n",
       "  </tbody>\n",
       "</table>\n",
       "<p>4325 rows × 9 columns</p>\n",
       "</div>"
      ],
      "text/plain": [
       "      Buttermilk  Cheese  Curd  Ghee  Ice Cream  Lassi  Milk  Paneer  Yogurt\n",
       "0              0       0     0     0          1      0     0       0       0\n",
       "1              0       0     0     0          0      0     1       0       0\n",
       "2              0       0     0     0          0      0     0       0       1\n",
       "3              0       1     0     0          0      0     0       0       0\n",
       "4              1       0     0     0          0      0     0       0       0\n",
       "...          ...     ...   ...   ...        ...    ...   ...     ...     ...\n",
       "4320           0       0     1     0          0      0     0       0       0\n",
       "4321           0       0     0     0          0      0     0       0       1\n",
       "4322           0       0     1     0          0      0     0       0       0\n",
       "4323           0       0     1     0          0      0     0       0       0\n",
       "4324           0       0     0     0          0      0     1       0       0\n",
       "\n",
       "[4325 rows x 9 columns]"
      ]
     },
     "execution_count": 36,
     "metadata": {},
     "output_type": "execute_result"
    }
   ],
   "source": [
    "X"
   ]
  },
  {
   "cell_type": "code",
   "execution_count": 37,
   "id": "23556ad5",
   "metadata": {},
   "outputs": [],
   "source": [
    "y2 = df['Minimum Stock Threshold (liters/kg)']"
   ]
  },
  {
   "cell_type": "code",
   "execution_count": 38,
   "id": "cdf52aaa",
   "metadata": {},
   "outputs": [
    {
     "data": {
      "text/plain": [
       "0       19.55\n",
       "1       43.17\n",
       "2       15.10\n",
       "3       74.50\n",
       "4       76.02\n",
       "        ...  \n",
       "4320    98.07\n",
       "4321    87.41\n",
       "4322    33.47\n",
       "4323    58.25\n",
       "4324    22.34\n",
       "Name: Minimum Stock Threshold (liters/kg), Length: 4325, dtype: float64"
      ]
     },
     "execution_count": 38,
     "metadata": {},
     "output_type": "execute_result"
    }
   ],
   "source": [
    "y2"
   ]
  },
  {
   "cell_type": "markdown",
   "id": "5b57bda4",
   "metadata": {},
   "source": [
    "### Creating train and test set"
   ]
  },
  {
   "cell_type": "code",
   "execution_count": 39,
   "id": "4de5b04c",
   "metadata": {},
   "outputs": [
    {
     "name": "stdout",
     "output_type": "stream",
     "text": [
      "(2595, 9)\n",
      "(1730, 9)\n",
      "(3027,)\n",
      "(1298,)\n"
     ]
    }
   ],
   "source": [
    "from sklearn.model_selection import train_test_split\n",
    "X_train, X_test, y2_train, y2_test = train_test_split(X, y2, test_size=0.4, random_state=101)\n",
    "print(X_train.shape)\n",
    "print(X_test.shape)\n",
    "print(y_train.shape)\n",
    "print(y_test.shape)"
   ]
  },
  {
   "cell_type": "code",
   "execution_count": 40,
   "id": "8890a06e",
   "metadata": {},
   "outputs": [
    {
     "data": {
      "text/html": [
       "<style>#sk-container-id-3 {color: black;background-color: white;}#sk-container-id-3 pre{padding: 0;}#sk-container-id-3 div.sk-toggleable {background-color: white;}#sk-container-id-3 label.sk-toggleable__label {cursor: pointer;display: block;width: 100%;margin-bottom: 0;padding: 0.3em;box-sizing: border-box;text-align: center;}#sk-container-id-3 label.sk-toggleable__label-arrow:before {content: \"▸\";float: left;margin-right: 0.25em;color: #696969;}#sk-container-id-3 label.sk-toggleable__label-arrow:hover:before {color: black;}#sk-container-id-3 div.sk-estimator:hover label.sk-toggleable__label-arrow:before {color: black;}#sk-container-id-3 div.sk-toggleable__content {max-height: 0;max-width: 0;overflow: hidden;text-align: left;background-color: #f0f8ff;}#sk-container-id-3 div.sk-toggleable__content pre {margin: 0.2em;color: black;border-radius: 0.25em;background-color: #f0f8ff;}#sk-container-id-3 input.sk-toggleable__control:checked~div.sk-toggleable__content {max-height: 200px;max-width: 100%;overflow: auto;}#sk-container-id-3 input.sk-toggleable__control:checked~label.sk-toggleable__label-arrow:before {content: \"▾\";}#sk-container-id-3 div.sk-estimator input.sk-toggleable__control:checked~label.sk-toggleable__label {background-color: #d4ebff;}#sk-container-id-3 div.sk-label input.sk-toggleable__control:checked~label.sk-toggleable__label {background-color: #d4ebff;}#sk-container-id-3 input.sk-hidden--visually {border: 0;clip: rect(1px 1px 1px 1px);clip: rect(1px, 1px, 1px, 1px);height: 1px;margin: -1px;overflow: hidden;padding: 0;position: absolute;width: 1px;}#sk-container-id-3 div.sk-estimator {font-family: monospace;background-color: #f0f8ff;border: 1px dotted black;border-radius: 0.25em;box-sizing: border-box;margin-bottom: 0.5em;}#sk-container-id-3 div.sk-estimator:hover {background-color: #d4ebff;}#sk-container-id-3 div.sk-parallel-item::after {content: \"\";width: 100%;border-bottom: 1px solid gray;flex-grow: 1;}#sk-container-id-3 div.sk-label:hover label.sk-toggleable__label {background-color: #d4ebff;}#sk-container-id-3 div.sk-serial::before {content: \"\";position: absolute;border-left: 1px solid gray;box-sizing: border-box;top: 0;bottom: 0;left: 50%;z-index: 0;}#sk-container-id-3 div.sk-serial {display: flex;flex-direction: column;align-items: center;background-color: white;padding-right: 0.2em;padding-left: 0.2em;position: relative;}#sk-container-id-3 div.sk-item {position: relative;z-index: 1;}#sk-container-id-3 div.sk-parallel {display: flex;align-items: stretch;justify-content: center;background-color: white;position: relative;}#sk-container-id-3 div.sk-item::before, #sk-container-id-3 div.sk-parallel-item::before {content: \"\";position: absolute;border-left: 1px solid gray;box-sizing: border-box;top: 0;bottom: 0;left: 50%;z-index: -1;}#sk-container-id-3 div.sk-parallel-item {display: flex;flex-direction: column;z-index: 1;position: relative;background-color: white;}#sk-container-id-3 div.sk-parallel-item:first-child::after {align-self: flex-end;width: 50%;}#sk-container-id-3 div.sk-parallel-item:last-child::after {align-self: flex-start;width: 50%;}#sk-container-id-3 div.sk-parallel-item:only-child::after {width: 0;}#sk-container-id-3 div.sk-dashed-wrapped {border: 1px dashed gray;margin: 0 0.4em 0.5em 0.4em;box-sizing: border-box;padding-bottom: 0.4em;background-color: white;}#sk-container-id-3 div.sk-label label {font-family: monospace;font-weight: bold;display: inline-block;line-height: 1.2em;}#sk-container-id-3 div.sk-label-container {text-align: center;}#sk-container-id-3 div.sk-container {/* jupyter's `normalize.less` sets `[hidden] { display: none; }` but bootstrap.min.css set `[hidden] { display: none !important; }` so we also need the `!important` here to be able to override the default hidden behavior on the sphinx rendered scikit-learn.org. See: https://github.com/scikit-learn/scikit-learn/issues/21755 */display: inline-block !important;position: relative;}#sk-container-id-3 div.sk-text-repr-fallback {display: none;}</style><div id=\"sk-container-id-3\" class=\"sk-top-container\"><div class=\"sk-text-repr-fallback\"><pre>LinearRegression()</pre><b>In a Jupyter environment, please rerun this cell to show the HTML representation or trust the notebook. <br />On GitHub, the HTML representation is unable to render, please try loading this page with nbviewer.org.</b></div><div class=\"sk-container\" hidden><div class=\"sk-item\"><div class=\"sk-estimator sk-toggleable\"><input class=\"sk-toggleable__control sk-hidden--visually\" id=\"sk-estimator-id-3\" type=\"checkbox\" checked><label for=\"sk-estimator-id-3\" class=\"sk-toggleable__label sk-toggleable__label-arrow\">LinearRegression</label><div class=\"sk-toggleable__content\"><pre>LinearRegression()</pre></div></div></div></div></div>"
      ],
      "text/plain": [
       "LinearRegression()"
      ]
     },
     "execution_count": 40,
     "metadata": {},
     "output_type": "execute_result"
    }
   ],
   "source": [
    "from sklearn.linear_model import LinearRegression\n",
    "model = LinearRegression()\n",
    "model.fit(X_train,y2_train)"
   ]
  },
  {
   "cell_type": "code",
   "execution_count": 41,
   "id": "f6a7b18d",
   "metadata": {},
   "outputs": [
    {
     "name": "stdout",
     "output_type": "stream",
     "text": [
      "57.10462450592885\n"
     ]
    }
   ],
   "source": [
    "# print the intercept\n",
    "print(model.intercept_)"
   ]
  },
  {
   "cell_type": "code",
   "execution_count": 42,
   "id": "9afc6736",
   "metadata": {},
   "outputs": [
    {
     "data": {
      "text/html": [
       "<div>\n",
       "<style scoped>\n",
       "    .dataframe tbody tr th:only-of-type {\n",
       "        vertical-align: middle;\n",
       "    }\n",
       "\n",
       "    .dataframe tbody tr th {\n",
       "        vertical-align: top;\n",
       "    }\n",
       "\n",
       "    .dataframe thead th {\n",
       "        text-align: right;\n",
       "    }\n",
       "</style>\n",
       "<table border=\"1\" class=\"dataframe\">\n",
       "  <thead>\n",
       "    <tr style=\"text-align: right;\">\n",
       "      <th></th>\n",
       "      <th>Coefficient</th>\n",
       "    </tr>\n",
       "  </thead>\n",
       "  <tbody>\n",
       "    <tr>\n",
       "      <th>Buttermilk</th>\n",
       "      <td>-1.979820</td>\n",
       "    </tr>\n",
       "    <tr>\n",
       "      <th>Cheese</th>\n",
       "      <td>-2.522649</td>\n",
       "    </tr>\n",
       "    <tr>\n",
       "      <th>Curd</th>\n",
       "      <td>0.364639</td>\n",
       "    </tr>\n",
       "    <tr>\n",
       "      <th>Ghee</th>\n",
       "      <td>-1.831991</td>\n",
       "    </tr>\n",
       "    <tr>\n",
       "      <th>Ice Cream</th>\n",
       "      <td>-1.155785</td>\n",
       "    </tr>\n",
       "    <tr>\n",
       "      <th>Lassi</th>\n",
       "      <td>1.956372</td>\n",
       "    </tr>\n",
       "    <tr>\n",
       "      <th>Milk</th>\n",
       "      <td>-1.202105</td>\n",
       "    </tr>\n",
       "    <tr>\n",
       "      <th>Paneer</th>\n",
       "      <td>-3.704469</td>\n",
       "    </tr>\n",
       "    <tr>\n",
       "      <th>Yogurt</th>\n",
       "      <td>-1.362352</td>\n",
       "    </tr>\n",
       "  </tbody>\n",
       "</table>\n",
       "</div>"
      ],
      "text/plain": [
       "            Coefficient\n",
       "Buttermilk    -1.979820\n",
       "Cheese        -2.522649\n",
       "Curd           0.364639\n",
       "Ghee          -1.831991\n",
       "Ice Cream     -1.155785\n",
       "Lassi          1.956372\n",
       "Milk          -1.202105\n",
       "Paneer        -3.704469\n",
       "Yogurt        -1.362352"
      ]
     },
     "execution_count": 42,
     "metadata": {},
     "output_type": "execute_result"
    }
   ],
   "source": [
    "coeff_parameter = pd.DataFrame(model.coef_,X.columns,columns=['Coefficient'])\n",
    "coeff_parameter"
   ]
  },
  {
   "cell_type": "code",
   "execution_count": 43,
   "id": "d032f3a4",
   "metadata": {},
   "outputs": [
    {
     "data": {
      "text/plain": [
       "array([55.12480469, 53.40015564, 55.74227273, ..., 57.10462451,\n",
       "       59.06099644, 55.90251938])"
      ]
     },
     "execution_count": 43,
     "metadata": {},
     "output_type": "execute_result"
    }
   ],
   "source": [
    "predictions = model.predict(X_test)\n",
    "predictions"
   ]
  },
  {
   "cell_type": "code",
   "execution_count": 44,
   "id": "82312569",
   "metadata": {
    "scrolled": true
   },
   "outputs": [
    {
     "name": "stdout",
     "output_type": "stream",
     "text": [
      "                                     OLS Regression Results                                    \n",
      "===============================================================================================\n",
      "Dep. Variable:     Minimum Stock Threshold (liters/kg)   R-squared:                       0.003\n",
      "Model:                                             OLS   Adj. R-squared:                 -0.000\n",
      "Method:                                  Least Squares   F-statistic:                    0.9816\n",
      "Date:                                 Sun, 09 Jul 2023   Prob (F-statistic):              0.453\n",
      "Time:                                         23:07:40   Log-Likelihood:                -12167.\n",
      "No. Observations:                                 2595   AIC:                         2.435e+04\n",
      "Df Residuals:                                     2585   BIC:                         2.441e+04\n",
      "Df Model:                                            9                                         \n",
      "Covariance Type:                             nonrobust                                         \n",
      "==============================================================================\n",
      "                 coef    std err          t      P>|t|      [0.025      0.975]\n",
      "------------------------------------------------------------------------------\n",
      "const         57.1046      1.657     34.461      0.000      53.855      60.354\n",
      "Buttermilk    -1.9798      2.337     -0.847      0.397      -6.562       2.602\n",
      "Cheese        -2.5226      2.355     -1.071      0.284      -7.141       2.096\n",
      "Curd           0.3646      2.277      0.160      0.873      -4.100       4.829\n",
      "Ghee          -1.8320      2.367     -0.774      0.439      -6.474       2.810\n",
      "Ice Cream     -1.1558      2.350     -0.492      0.623      -5.765       3.453\n",
      "Lassi          1.9564      2.284      0.856      0.392      -2.523       6.436\n",
      "Milk          -1.2021      2.332     -0.515      0.606      -5.775       3.371\n",
      "Paneer        -3.7045      2.334     -1.587      0.113      -8.282       0.873\n",
      "Yogurt        -1.3624      2.319     -0.587      0.557      -5.909       3.185\n",
      "==============================================================================\n",
      "Omnibus:                     2456.273   Durbin-Watson:                   2.072\n",
      "Prob(Omnibus):                  0.000   Jarque-Bera (JB):              160.676\n",
      "Skew:                          -0.045   Prob(JB):                     1.29e-35\n",
      "Kurtosis:                       1.784   Cond. No.                         11.0\n",
      "==============================================================================\n",
      "\n",
      "Notes:\n",
      "[1] Standard Errors assume that the covariance matrix of the errors is correctly specified.\n"
     ]
    }
   ],
   "source": [
    "import statsmodels.api as sm\n",
    "X_train_Sm= sm.add_constant(X_train)\n",
    "X_train_Sm= sm.add_constant(X_train)\n",
    "ls=sm.OLS(y2_train,X_train_Sm).fit()\n",
    "print(ls.summary())"
   ]
  },
  {
   "cell_type": "markdown",
   "id": "e3be406d",
   "metadata": {},
   "source": [
    "When seeing the adjusted r2 values between the variables this model is not a good fit for the analysis."
   ]
  },
  {
   "cell_type": "markdown",
   "id": "599fec93",
   "metadata": {},
   "source": [
    "# Model 4: Farm size and the total revenue\n"
   ]
  },
  {
   "cell_type": "code",
   "execution_count": 45,
   "id": "f858b1ca",
   "metadata": {},
   "outputs": [],
   "source": [
    "X1 = df['Farm Size per sq.km']"
   ]
  },
  {
   "cell_type": "code",
   "execution_count": 46,
   "id": "34de471a",
   "metadata": {},
   "outputs": [
    {
     "data": {
      "text/html": [
       "<div>\n",
       "<style scoped>\n",
       "    .dataframe tbody tr th:only-of-type {\n",
       "        vertical-align: middle;\n",
       "    }\n",
       "\n",
       "    .dataframe tbody tr th {\n",
       "        vertical-align: top;\n",
       "    }\n",
       "\n",
       "    .dataframe thead th {\n",
       "        text-align: right;\n",
       "    }\n",
       "</style>\n",
       "<table border=\"1\" class=\"dataframe\">\n",
       "  <thead>\n",
       "    <tr style=\"text-align: right;\">\n",
       "      <th></th>\n",
       "      <th>Medium</th>\n",
       "      <th>Small</th>\n",
       "    </tr>\n",
       "  </thead>\n",
       "  <tbody>\n",
       "    <tr>\n",
       "      <th>0</th>\n",
       "      <td>1</td>\n",
       "      <td>0</td>\n",
       "    </tr>\n",
       "    <tr>\n",
       "      <th>1</th>\n",
       "      <td>0</td>\n",
       "      <td>0</td>\n",
       "    </tr>\n",
       "    <tr>\n",
       "      <th>2</th>\n",
       "      <td>1</td>\n",
       "      <td>0</td>\n",
       "    </tr>\n",
       "    <tr>\n",
       "      <th>3</th>\n",
       "      <td>0</td>\n",
       "      <td>1</td>\n",
       "    </tr>\n",
       "    <tr>\n",
       "      <th>4</th>\n",
       "      <td>1</td>\n",
       "      <td>0</td>\n",
       "    </tr>\n",
       "  </tbody>\n",
       "</table>\n",
       "</div>"
      ],
      "text/plain": [
       "   Medium  Small\n",
       "0       1      0\n",
       "1       0      0\n",
       "2       1      0\n",
       "3       0      1\n",
       "4       1      0"
      ]
     },
     "execution_count": 46,
     "metadata": {},
     "output_type": "execute_result"
    }
   ],
   "source": [
    "X1 = pd.get_dummies(data=X1, drop_first=True)\n",
    "X1.head()"
   ]
  },
  {
   "cell_type": "code",
   "execution_count": 47,
   "id": "24614981",
   "metadata": {},
   "outputs": [],
   "source": [
    "y1 = df['Approx. Total Revenue(INR)']"
   ]
  },
  {
   "cell_type": "code",
   "execution_count": 48,
   "id": "aa65694f",
   "metadata": {},
   "outputs": [
    {
     "name": "stdout",
     "output_type": "stream",
     "text": [
      "(2595, 2)\n",
      "(1730, 2)\n",
      "(2595,)\n",
      "(1730,)\n"
     ]
    }
   ],
   "source": [
    "from sklearn.model_selection import train_test_split\n",
    "X1_train, X1_test, y1_train, y1_test = train_test_split(X1, y1, test_size=0.4, random_state=101)\n",
    "print(X1_train.shape)\n",
    "print(X1_test.shape)\n",
    "print(y1_train.shape)\n",
    "print(y1_test.shape)"
   ]
  },
  {
   "cell_type": "code",
   "execution_count": 49,
   "id": "f9ec9949",
   "metadata": {},
   "outputs": [
    {
     "data": {
      "text/html": [
       "<style>#sk-container-id-4 {color: black;background-color: white;}#sk-container-id-4 pre{padding: 0;}#sk-container-id-4 div.sk-toggleable {background-color: white;}#sk-container-id-4 label.sk-toggleable__label {cursor: pointer;display: block;width: 100%;margin-bottom: 0;padding: 0.3em;box-sizing: border-box;text-align: center;}#sk-container-id-4 label.sk-toggleable__label-arrow:before {content: \"▸\";float: left;margin-right: 0.25em;color: #696969;}#sk-container-id-4 label.sk-toggleable__label-arrow:hover:before {color: black;}#sk-container-id-4 div.sk-estimator:hover label.sk-toggleable__label-arrow:before {color: black;}#sk-container-id-4 div.sk-toggleable__content {max-height: 0;max-width: 0;overflow: hidden;text-align: left;background-color: #f0f8ff;}#sk-container-id-4 div.sk-toggleable__content pre {margin: 0.2em;color: black;border-radius: 0.25em;background-color: #f0f8ff;}#sk-container-id-4 input.sk-toggleable__control:checked~div.sk-toggleable__content {max-height: 200px;max-width: 100%;overflow: auto;}#sk-container-id-4 input.sk-toggleable__control:checked~label.sk-toggleable__label-arrow:before {content: \"▾\";}#sk-container-id-4 div.sk-estimator input.sk-toggleable__control:checked~label.sk-toggleable__label {background-color: #d4ebff;}#sk-container-id-4 div.sk-label input.sk-toggleable__control:checked~label.sk-toggleable__label {background-color: #d4ebff;}#sk-container-id-4 input.sk-hidden--visually {border: 0;clip: rect(1px 1px 1px 1px);clip: rect(1px, 1px, 1px, 1px);height: 1px;margin: -1px;overflow: hidden;padding: 0;position: absolute;width: 1px;}#sk-container-id-4 div.sk-estimator {font-family: monospace;background-color: #f0f8ff;border: 1px dotted black;border-radius: 0.25em;box-sizing: border-box;margin-bottom: 0.5em;}#sk-container-id-4 div.sk-estimator:hover {background-color: #d4ebff;}#sk-container-id-4 div.sk-parallel-item::after {content: \"\";width: 100%;border-bottom: 1px solid gray;flex-grow: 1;}#sk-container-id-4 div.sk-label:hover label.sk-toggleable__label {background-color: #d4ebff;}#sk-container-id-4 div.sk-serial::before {content: \"\";position: absolute;border-left: 1px solid gray;box-sizing: border-box;top: 0;bottom: 0;left: 50%;z-index: 0;}#sk-container-id-4 div.sk-serial {display: flex;flex-direction: column;align-items: center;background-color: white;padding-right: 0.2em;padding-left: 0.2em;position: relative;}#sk-container-id-4 div.sk-item {position: relative;z-index: 1;}#sk-container-id-4 div.sk-parallel {display: flex;align-items: stretch;justify-content: center;background-color: white;position: relative;}#sk-container-id-4 div.sk-item::before, #sk-container-id-4 div.sk-parallel-item::before {content: \"\";position: absolute;border-left: 1px solid gray;box-sizing: border-box;top: 0;bottom: 0;left: 50%;z-index: -1;}#sk-container-id-4 div.sk-parallel-item {display: flex;flex-direction: column;z-index: 1;position: relative;background-color: white;}#sk-container-id-4 div.sk-parallel-item:first-child::after {align-self: flex-end;width: 50%;}#sk-container-id-4 div.sk-parallel-item:last-child::after {align-self: flex-start;width: 50%;}#sk-container-id-4 div.sk-parallel-item:only-child::after {width: 0;}#sk-container-id-4 div.sk-dashed-wrapped {border: 1px dashed gray;margin: 0 0.4em 0.5em 0.4em;box-sizing: border-box;padding-bottom: 0.4em;background-color: white;}#sk-container-id-4 div.sk-label label {font-family: monospace;font-weight: bold;display: inline-block;line-height: 1.2em;}#sk-container-id-4 div.sk-label-container {text-align: center;}#sk-container-id-4 div.sk-container {/* jupyter's `normalize.less` sets `[hidden] { display: none; }` but bootstrap.min.css set `[hidden] { display: none !important; }` so we also need the `!important` here to be able to override the default hidden behavior on the sphinx rendered scikit-learn.org. See: https://github.com/scikit-learn/scikit-learn/issues/21755 */display: inline-block !important;position: relative;}#sk-container-id-4 div.sk-text-repr-fallback {display: none;}</style><div id=\"sk-container-id-4\" class=\"sk-top-container\"><div class=\"sk-text-repr-fallback\"><pre>LinearRegression()</pre><b>In a Jupyter environment, please rerun this cell to show the HTML representation or trust the notebook. <br />On GitHub, the HTML representation is unable to render, please try loading this page with nbviewer.org.</b></div><div class=\"sk-container\" hidden><div class=\"sk-item\"><div class=\"sk-estimator sk-toggleable\"><input class=\"sk-toggleable__control sk-hidden--visually\" id=\"sk-estimator-id-4\" type=\"checkbox\" checked><label for=\"sk-estimator-id-4\" class=\"sk-toggleable__label sk-toggleable__label-arrow\">LinearRegression</label><div class=\"sk-toggleable__content\"><pre>LinearRegression()</pre></div></div></div></div></div>"
      ],
      "text/plain": [
       "LinearRegression()"
      ]
     },
     "execution_count": 49,
     "metadata": {},
     "output_type": "execute_result"
    }
   ],
   "source": [
    "from sklearn.linear_model import LinearRegression\n",
    "model = LinearRegression()\n",
    "model.fit(X1_train,y1_train)"
   ]
  },
  {
   "cell_type": "code",
   "execution_count": 50,
   "id": "1973d58a",
   "metadata": {},
   "outputs": [
    {
     "name": "stdout",
     "output_type": "stream",
     "text": [
      "13855.51893764434\n"
     ]
    }
   ],
   "source": [
    "# print the intercept\n",
    "print(model.intercept_)"
   ]
  },
  {
   "cell_type": "code",
   "execution_count": 51,
   "id": "c3a81037",
   "metadata": {},
   "outputs": [
    {
     "data": {
      "text/html": [
       "<div>\n",
       "<style scoped>\n",
       "    .dataframe tbody tr th:only-of-type {\n",
       "        vertical-align: middle;\n",
       "    }\n",
       "\n",
       "    .dataframe tbody tr th {\n",
       "        vertical-align: top;\n",
       "    }\n",
       "\n",
       "    .dataframe thead th {\n",
       "        text-align: right;\n",
       "    }\n",
       "</style>\n",
       "<table border=\"1\" class=\"dataframe\">\n",
       "  <thead>\n",
       "    <tr style=\"text-align: right;\">\n",
       "      <th></th>\n",
       "      <th>Coefficient</th>\n",
       "    </tr>\n",
       "  </thead>\n",
       "  <tbody>\n",
       "    <tr>\n",
       "      <th>Medium</th>\n",
       "      <td>-522.428400</td>\n",
       "    </tr>\n",
       "    <tr>\n",
       "      <th>Small</th>\n",
       "      <td>-378.855047</td>\n",
       "    </tr>\n",
       "  </tbody>\n",
       "</table>\n",
       "</div>"
      ],
      "text/plain": [
       "        Coefficient\n",
       "Medium  -522.428400\n",
       "Small   -378.855047"
      ]
     },
     "execution_count": 51,
     "metadata": {},
     "output_type": "execute_result"
    }
   ],
   "source": [
    "coeff_parameter = pd.DataFrame(model.coef_,X1.columns,columns=['Coefficient'])\n",
    "coeff_parameter"
   ]
  },
  {
   "cell_type": "code",
   "execution_count": 52,
   "id": "0816f03f",
   "metadata": {},
   "outputs": [
    {
     "name": "stdout",
     "output_type": "stream",
     "text": [
      "                                OLS Regression Results                                \n",
      "======================================================================================\n",
      "Dep. Variable:     Approx. Total Revenue(INR)   R-squared:                       0.000\n",
      "Model:                                    OLS   Adj. R-squared:                 -0.001\n",
      "Method:                         Least Squares   F-statistic:                    0.2976\n",
      "Date:                        Sun, 09 Jul 2023   Prob (F-statistic):              0.743\n",
      "Time:                                23:07:40   Log-Likelihood:                -28551.\n",
      "No. Observations:                        2595   AIC:                         5.711e+04\n",
      "Df Residuals:                            2592   BIC:                         5.713e+04\n",
      "Df Model:                                   2                                         \n",
      "Covariance Type:                    nonrobust                                         \n",
      "==============================================================================\n",
      "                 coef    std err          t      P>|t|      [0.025      0.975]\n",
      "------------------------------------------------------------------------------\n",
      "const       1.386e+04    493.747     28.062      0.000    1.29e+04    1.48e+04\n",
      "Medium      -522.4284    700.506     -0.746      0.456   -1896.036     851.179\n",
      "Small       -378.8550    696.664     -0.544      0.587   -1744.929     987.219\n",
      "==============================================================================\n",
      "Omnibus:                      829.477   Durbin-Watson:                   2.007\n",
      "Prob(Omnibus):                  0.000   Jarque-Bera (JB):             2292.586\n",
      "Skew:                           1.695   Prob(JB):                         0.00\n",
      "Kurtosis:                       6.117   Cond. No.                         3.73\n",
      "==============================================================================\n",
      "\n",
      "Notes:\n",
      "[1] Standard Errors assume that the covariance matrix of the errors is correctly specified.\n"
     ]
    }
   ],
   "source": [
    "import statsmodels.api as sm\n",
    "X1_train_Sm= sm.add_constant(X1_train)\n",
    "X1_train_Sm= sm.add_constant(X1_train)\n",
    "ls=sm.OLS(y1_train,X1_train_Sm).fit()\n",
    "print(ls.summary())"
   ]
  },
  {
   "cell_type": "markdown",
   "id": "96855d1c",
   "metadata": {},
   "source": [
    "After seeing the adjusted r2 values the desired model has no fit between the variables."
   ]
  },
  {
   "cell_type": "markdown",
   "id": "7dcf0144",
   "metadata": {},
   "source": [
    "# Model 5 : Storage condition and Quantity in stock"
   ]
  },
  {
   "cell_type": "code",
   "execution_count": 53,
   "id": "d9f16170",
   "metadata": {},
   "outputs": [],
   "source": [
    "X3 = df['Storage Condition']"
   ]
  },
  {
   "cell_type": "code",
   "execution_count": 54,
   "id": "1f5c9125",
   "metadata": {},
   "outputs": [
    {
     "data": {
      "text/html": [
       "<div>\n",
       "<style scoped>\n",
       "    .dataframe tbody tr th:only-of-type {\n",
       "        vertical-align: middle;\n",
       "    }\n",
       "\n",
       "    .dataframe tbody tr th {\n",
       "        vertical-align: top;\n",
       "    }\n",
       "\n",
       "    .dataframe thead th {\n",
       "        text-align: right;\n",
       "    }\n",
       "</style>\n",
       "<table border=\"1\" class=\"dataframe\">\n",
       "  <thead>\n",
       "    <tr style=\"text-align: right;\">\n",
       "      <th></th>\n",
       "      <th>Frozen</th>\n",
       "      <th>Polythene Packet</th>\n",
       "      <th>Refrigerated</th>\n",
       "      <th>Tetra Pack</th>\n",
       "    </tr>\n",
       "  </thead>\n",
       "  <tbody>\n",
       "    <tr>\n",
       "      <th>0</th>\n",
       "      <td>1</td>\n",
       "      <td>0</td>\n",
       "      <td>0</td>\n",
       "      <td>0</td>\n",
       "    </tr>\n",
       "    <tr>\n",
       "      <th>1</th>\n",
       "      <td>0</td>\n",
       "      <td>0</td>\n",
       "      <td>0</td>\n",
       "      <td>1</td>\n",
       "    </tr>\n",
       "    <tr>\n",
       "      <th>2</th>\n",
       "      <td>0</td>\n",
       "      <td>0</td>\n",
       "      <td>1</td>\n",
       "      <td>0</td>\n",
       "    </tr>\n",
       "    <tr>\n",
       "      <th>3</th>\n",
       "      <td>1</td>\n",
       "      <td>0</td>\n",
       "      <td>0</td>\n",
       "      <td>0</td>\n",
       "    </tr>\n",
       "    <tr>\n",
       "      <th>4</th>\n",
       "      <td>0</td>\n",
       "      <td>0</td>\n",
       "      <td>1</td>\n",
       "      <td>0</td>\n",
       "    </tr>\n",
       "  </tbody>\n",
       "</table>\n",
       "</div>"
      ],
      "text/plain": [
       "   Frozen  Polythene Packet  Refrigerated  Tetra Pack\n",
       "0       1                 0             0           0\n",
       "1       0                 0             0           1\n",
       "2       0                 0             1           0\n",
       "3       1                 0             0           0\n",
       "4       0                 0             1           0"
      ]
     },
     "execution_count": 54,
     "metadata": {},
     "output_type": "execute_result"
    }
   ],
   "source": [
    "X3 = pd.get_dummies(data=X3, drop_first=True)\n",
    "X3.head()\n"
   ]
  },
  {
   "cell_type": "code",
   "execution_count": 55,
   "id": "111fee9f",
   "metadata": {},
   "outputs": [],
   "source": [
    "y3 = df['Quantity in Stock (liters/kg)']"
   ]
  },
  {
   "cell_type": "code",
   "execution_count": 56,
   "id": "0573956f",
   "metadata": {},
   "outputs": [
    {
     "name": "stdout",
     "output_type": "stream",
     "text": [
      "(2595, 4)\n",
      "(1730, 4)\n",
      "(2595,)\n",
      "(1730,)\n"
     ]
    }
   ],
   "source": [
    "from sklearn.model_selection import train_test_split\n",
    "X3_train, X3_test, y3_train, y3_test = train_test_split(X3, y3, test_size=0.4, random_state=101)\n",
    "print(X3_train.shape)\n",
    "print(X3_test.shape)\n",
    "print(y3_train.shape)\n",
    "print(y3_test.shape)"
   ]
  },
  {
   "cell_type": "code",
   "execution_count": 57,
   "id": "9bb3d83f",
   "metadata": {},
   "outputs": [
    {
     "data": {
      "text/html": [
       "<style>#sk-container-id-5 {color: black;background-color: white;}#sk-container-id-5 pre{padding: 0;}#sk-container-id-5 div.sk-toggleable {background-color: white;}#sk-container-id-5 label.sk-toggleable__label {cursor: pointer;display: block;width: 100%;margin-bottom: 0;padding: 0.3em;box-sizing: border-box;text-align: center;}#sk-container-id-5 label.sk-toggleable__label-arrow:before {content: \"▸\";float: left;margin-right: 0.25em;color: #696969;}#sk-container-id-5 label.sk-toggleable__label-arrow:hover:before {color: black;}#sk-container-id-5 div.sk-estimator:hover label.sk-toggleable__label-arrow:before {color: black;}#sk-container-id-5 div.sk-toggleable__content {max-height: 0;max-width: 0;overflow: hidden;text-align: left;background-color: #f0f8ff;}#sk-container-id-5 div.sk-toggleable__content pre {margin: 0.2em;color: black;border-radius: 0.25em;background-color: #f0f8ff;}#sk-container-id-5 input.sk-toggleable__control:checked~div.sk-toggleable__content {max-height: 200px;max-width: 100%;overflow: auto;}#sk-container-id-5 input.sk-toggleable__control:checked~label.sk-toggleable__label-arrow:before {content: \"▾\";}#sk-container-id-5 div.sk-estimator input.sk-toggleable__control:checked~label.sk-toggleable__label {background-color: #d4ebff;}#sk-container-id-5 div.sk-label input.sk-toggleable__control:checked~label.sk-toggleable__label {background-color: #d4ebff;}#sk-container-id-5 input.sk-hidden--visually {border: 0;clip: rect(1px 1px 1px 1px);clip: rect(1px, 1px, 1px, 1px);height: 1px;margin: -1px;overflow: hidden;padding: 0;position: absolute;width: 1px;}#sk-container-id-5 div.sk-estimator {font-family: monospace;background-color: #f0f8ff;border: 1px dotted black;border-radius: 0.25em;box-sizing: border-box;margin-bottom: 0.5em;}#sk-container-id-5 div.sk-estimator:hover {background-color: #d4ebff;}#sk-container-id-5 div.sk-parallel-item::after {content: \"\";width: 100%;border-bottom: 1px solid gray;flex-grow: 1;}#sk-container-id-5 div.sk-label:hover label.sk-toggleable__label {background-color: #d4ebff;}#sk-container-id-5 div.sk-serial::before {content: \"\";position: absolute;border-left: 1px solid gray;box-sizing: border-box;top: 0;bottom: 0;left: 50%;z-index: 0;}#sk-container-id-5 div.sk-serial {display: flex;flex-direction: column;align-items: center;background-color: white;padding-right: 0.2em;padding-left: 0.2em;position: relative;}#sk-container-id-5 div.sk-item {position: relative;z-index: 1;}#sk-container-id-5 div.sk-parallel {display: flex;align-items: stretch;justify-content: center;background-color: white;position: relative;}#sk-container-id-5 div.sk-item::before, #sk-container-id-5 div.sk-parallel-item::before {content: \"\";position: absolute;border-left: 1px solid gray;box-sizing: border-box;top: 0;bottom: 0;left: 50%;z-index: -1;}#sk-container-id-5 div.sk-parallel-item {display: flex;flex-direction: column;z-index: 1;position: relative;background-color: white;}#sk-container-id-5 div.sk-parallel-item:first-child::after {align-self: flex-end;width: 50%;}#sk-container-id-5 div.sk-parallel-item:last-child::after {align-self: flex-start;width: 50%;}#sk-container-id-5 div.sk-parallel-item:only-child::after {width: 0;}#sk-container-id-5 div.sk-dashed-wrapped {border: 1px dashed gray;margin: 0 0.4em 0.5em 0.4em;box-sizing: border-box;padding-bottom: 0.4em;background-color: white;}#sk-container-id-5 div.sk-label label {font-family: monospace;font-weight: bold;display: inline-block;line-height: 1.2em;}#sk-container-id-5 div.sk-label-container {text-align: center;}#sk-container-id-5 div.sk-container {/* jupyter's `normalize.less` sets `[hidden] { display: none; }` but bootstrap.min.css set `[hidden] { display: none !important; }` so we also need the `!important` here to be able to override the default hidden behavior on the sphinx rendered scikit-learn.org. See: https://github.com/scikit-learn/scikit-learn/issues/21755 */display: inline-block !important;position: relative;}#sk-container-id-5 div.sk-text-repr-fallback {display: none;}</style><div id=\"sk-container-id-5\" class=\"sk-top-container\"><div class=\"sk-text-repr-fallback\"><pre>LinearRegression()</pre><b>In a Jupyter environment, please rerun this cell to show the HTML representation or trust the notebook. <br />On GitHub, the HTML representation is unable to render, please try loading this page with nbviewer.org.</b></div><div class=\"sk-container\" hidden><div class=\"sk-item\"><div class=\"sk-estimator sk-toggleable\"><input class=\"sk-toggleable__control sk-hidden--visually\" id=\"sk-estimator-id-5\" type=\"checkbox\" checked><label for=\"sk-estimator-id-5\" class=\"sk-toggleable__label sk-toggleable__label-arrow\">LinearRegression</label><div class=\"sk-toggleable__content\"><pre>LinearRegression()</pre></div></div></div></div></div>"
      ],
      "text/plain": [
       "LinearRegression()"
      ]
     },
     "execution_count": 57,
     "metadata": {},
     "output_type": "execute_result"
    }
   ],
   "source": [
    "from sklearn.linear_model import LinearRegression\n",
    "model = LinearRegression()\n",
    "model.fit(X3_train,y3_train)"
   ]
  },
  {
   "cell_type": "code",
   "execution_count": 58,
   "id": "abb63d80",
   "metadata": {},
   "outputs": [
    {
     "name": "stdout",
     "output_type": "stream",
     "text": [
      "236.47325102880654\n"
     ]
    }
   ],
   "source": [
    "# print the intercept\n",
    "print(model.intercept_)"
   ]
  },
  {
   "cell_type": "code",
   "execution_count": 59,
   "id": "9f60be09",
   "metadata": {},
   "outputs": [
    {
     "data": {
      "text/html": [
       "<div>\n",
       "<style scoped>\n",
       "    .dataframe tbody tr th:only-of-type {\n",
       "        vertical-align: middle;\n",
       "    }\n",
       "\n",
       "    .dataframe tbody tr th {\n",
       "        vertical-align: top;\n",
       "    }\n",
       "\n",
       "    .dataframe thead th {\n",
       "        text-align: right;\n",
       "    }\n",
       "</style>\n",
       "<table border=\"1\" class=\"dataframe\">\n",
       "  <thead>\n",
       "    <tr style=\"text-align: right;\">\n",
       "      <th></th>\n",
       "      <th>Coefficient</th>\n",
       "    </tr>\n",
       "  </thead>\n",
       "  <tbody>\n",
       "    <tr>\n",
       "      <th>Frozen</th>\n",
       "      <td>12.736940</td>\n",
       "    </tr>\n",
       "    <tr>\n",
       "      <th>Polythene Packet</th>\n",
       "      <td>24.245059</td>\n",
       "    </tr>\n",
       "    <tr>\n",
       "      <th>Refrigerated</th>\n",
       "      <td>20.532888</td>\n",
       "    </tr>\n",
       "    <tr>\n",
       "      <th>Tetra Pack</th>\n",
       "      <td>0.862956</td>\n",
       "    </tr>\n",
       "  </tbody>\n",
       "</table>\n",
       "</div>"
      ],
      "text/plain": [
       "                  Coefficient\n",
       "Frozen              12.736940\n",
       "Polythene Packet    24.245059\n",
       "Refrigerated        20.532888\n",
       "Tetra Pack           0.862956"
      ]
     },
     "execution_count": 59,
     "metadata": {},
     "output_type": "execute_result"
    }
   ],
   "source": [
    "coeff_parameter = pd.DataFrame(model.coef_,X3.columns,columns=['Coefficient'])\n",
    "coeff_parameter"
   ]
  },
  {
   "cell_type": "code",
   "execution_count": 60,
   "id": "251aa664",
   "metadata": {},
   "outputs": [
    {
     "data": {
      "text/plain": [
       "array([257.00613915, 257.00613915, 249.21019108, ..., 257.00613915,\n",
       "       257.00613915, 260.71830986])"
      ]
     },
     "execution_count": 60,
     "metadata": {},
     "output_type": "execute_result"
    }
   ],
   "source": [
    "predictions = model.predict(X3_test)\n",
    "predictions\n"
   ]
  },
  {
   "cell_type": "code",
   "execution_count": 61,
   "id": "b9eed814",
   "metadata": {},
   "outputs": [
    {
     "name": "stdout",
     "output_type": "stream",
     "text": [
      "                                  OLS Regression Results                                 \n",
      "=========================================================================================\n",
      "Dep. Variable:     Quantity in Stock (liters/kg)   R-squared:                       0.001\n",
      "Model:                                       OLS   Adj. R-squared:                 -0.001\n",
      "Method:                            Least Squares   F-statistic:                    0.6612\n",
      "Date:                           Sun, 09 Jul 2023   Prob (F-statistic):              0.619\n",
      "Time:                                   23:07:40   Log-Likelihood:                -17747.\n",
      "No. Observations:                           2595   AIC:                         3.550e+04\n",
      "Df Residuals:                               2590   BIC:                         3.553e+04\n",
      "Df Model:                                      4                                         \n",
      "Covariance Type:                       nonrobust                                         \n",
      "====================================================================================\n",
      "                       coef    std err          t      P>|t|      [0.025      0.975]\n",
      "------------------------------------------------------------------------------------\n",
      "const              236.4733     14.506     16.302      0.000     208.029     264.917\n",
      "Frozen              12.7369     17.083      0.746      0.456     -20.761      46.235\n",
      "Polythene Packet    24.2451     23.885      1.015      0.310     -22.591      71.081\n",
      "Refrigerated        20.5329     15.662      1.311      0.190     -10.178      51.244\n",
      "Tetra Pack           0.8630     25.519      0.034      0.973     -49.176      50.902\n",
      "==============================================================================\n",
      "Omnibus:                      293.151   Durbin-Watson:                   2.011\n",
      "Prob(Omnibus):                  0.000   Jarque-Bera (JB):              402.153\n",
      "Skew:                           0.963   Prob(JB):                     4.72e-88\n",
      "Kurtosis:                       3.079   Cond. No.                         9.57\n",
      "==============================================================================\n",
      "\n",
      "Notes:\n",
      "[1] Standard Errors assume that the covariance matrix of the errors is correctly specified.\n"
     ]
    }
   ],
   "source": [
    "import statsmodels.api as sm\n",
    "X3_train_Sm= sm.add_constant(X3_train)\n",
    "X3_train_Sm= sm.add_constant(X3_train)\n",
    "ls=sm.OLS(y3_train,X3_train_Sm).fit()\n",
    "print(ls.summary())"
   ]
  },
  {
   "cell_type": "markdown",
   "id": "f496d5e0",
   "metadata": {},
   "source": [
    "Despite having positive coefficient, after analysing the adjusted r2 values it clear that the storage conditions have no effect on the quantity in stock."
   ]
  },
  {
   "cell_type": "markdown",
   "id": "46571c94",
   "metadata": {},
   "source": [
    "# Model 6 : The Sales channel and the total revenue"
   ]
  },
  {
   "cell_type": "code",
   "execution_count": 62,
   "id": "422018ee",
   "metadata": {},
   "outputs": [],
   "source": [
    "X4 = df['Sales categories']"
   ]
  },
  {
   "cell_type": "code",
   "execution_count": 63,
   "id": "921fe8b9",
   "metadata": {},
   "outputs": [
    {
     "data": {
      "text/html": [
       "<div>\n",
       "<style scoped>\n",
       "    .dataframe tbody tr th:only-of-type {\n",
       "        vertical-align: middle;\n",
       "    }\n",
       "\n",
       "    .dataframe tbody tr th {\n",
       "        vertical-align: top;\n",
       "    }\n",
       "\n",
       "    .dataframe thead th {\n",
       "        text-align: right;\n",
       "    }\n",
       "</style>\n",
       "<table border=\"1\" class=\"dataframe\">\n",
       "  <thead>\n",
       "    <tr style=\"text-align: right;\">\n",
       "      <th></th>\n",
       "      <th>Retail</th>\n",
       "      <th>Wholesale</th>\n",
       "    </tr>\n",
       "  </thead>\n",
       "  <tbody>\n",
       "    <tr>\n",
       "      <th>0</th>\n",
       "      <td>0</td>\n",
       "      <td>1</td>\n",
       "    </tr>\n",
       "    <tr>\n",
       "      <th>1</th>\n",
       "      <td>0</td>\n",
       "      <td>1</td>\n",
       "    </tr>\n",
       "    <tr>\n",
       "      <th>2</th>\n",
       "      <td>0</td>\n",
       "      <td>0</td>\n",
       "    </tr>\n",
       "    <tr>\n",
       "      <th>3</th>\n",
       "      <td>0</td>\n",
       "      <td>0</td>\n",
       "    </tr>\n",
       "    <tr>\n",
       "      <th>4</th>\n",
       "      <td>1</td>\n",
       "      <td>0</td>\n",
       "    </tr>\n",
       "  </tbody>\n",
       "</table>\n",
       "</div>"
      ],
      "text/plain": [
       "   Retail  Wholesale\n",
       "0       0          1\n",
       "1       0          1\n",
       "2       0          0\n",
       "3       0          0\n",
       "4       1          0"
      ]
     },
     "execution_count": 63,
     "metadata": {},
     "output_type": "execute_result"
    }
   ],
   "source": [
    "X4 = pd.get_dummies(data=X4, drop_first=True)\n",
    "X4.head()"
   ]
  },
  {
   "cell_type": "code",
   "execution_count": 64,
   "id": "47f95564",
   "metadata": {},
   "outputs": [],
   "source": [
    "y1 = df['Approx. Total Revenue(INR)']"
   ]
  },
  {
   "cell_type": "code",
   "execution_count": 65,
   "id": "b543692a",
   "metadata": {},
   "outputs": [
    {
     "data": {
      "text/plain": [
       "0         575.68\n",
       "1       21895.92\n",
       "2        8655.36\n",
       "3       17380.92\n",
       "4       12045.15\n",
       "          ...   \n",
       "4320    30694.40\n",
       "4321     3970.52\n",
       "4322    12613.86\n",
       "4323       21.12\n",
       "4324    18577.35\n",
       "Name: Approx. Total Revenue(INR), Length: 4325, dtype: float64"
      ]
     },
     "execution_count": 65,
     "metadata": {},
     "output_type": "execute_result"
    }
   ],
   "source": [
    "y1"
   ]
  },
  {
   "cell_type": "code",
   "execution_count": 66,
   "id": "b4d6b600",
   "metadata": {},
   "outputs": [],
   "source": [
    "# Split data into a training set and a test set.  Using test_train_split\n",
    "X4_train,X4_test,y1_train,y1_test = train_test_split(X4,y1,test_size = 0.3,random_state = 0)\n"
   ]
  },
  {
   "cell_type": "markdown",
   "id": "f48b9cff",
   "metadata": {},
   "source": [
    "### Test set"
   ]
  },
  {
   "cell_type": "code",
   "execution_count": 67,
   "id": "fd6569e7",
   "metadata": {},
   "outputs": [],
   "source": [
    "# Create regression object\n",
    "regression = LinearRegression()"
   ]
  },
  {
   "cell_type": "code",
   "execution_count": 68,
   "id": "0d1fcf22",
   "metadata": {},
   "outputs": [
    {
     "data": {
      "text/html": [
       "<style>#sk-container-id-6 {color: black;background-color: white;}#sk-container-id-6 pre{padding: 0;}#sk-container-id-6 div.sk-toggleable {background-color: white;}#sk-container-id-6 label.sk-toggleable__label {cursor: pointer;display: block;width: 100%;margin-bottom: 0;padding: 0.3em;box-sizing: border-box;text-align: center;}#sk-container-id-6 label.sk-toggleable__label-arrow:before {content: \"▸\";float: left;margin-right: 0.25em;color: #696969;}#sk-container-id-6 label.sk-toggleable__label-arrow:hover:before {color: black;}#sk-container-id-6 div.sk-estimator:hover label.sk-toggleable__label-arrow:before {color: black;}#sk-container-id-6 div.sk-toggleable__content {max-height: 0;max-width: 0;overflow: hidden;text-align: left;background-color: #f0f8ff;}#sk-container-id-6 div.sk-toggleable__content pre {margin: 0.2em;color: black;border-radius: 0.25em;background-color: #f0f8ff;}#sk-container-id-6 input.sk-toggleable__control:checked~div.sk-toggleable__content {max-height: 200px;max-width: 100%;overflow: auto;}#sk-container-id-6 input.sk-toggleable__control:checked~label.sk-toggleable__label-arrow:before {content: \"▾\";}#sk-container-id-6 div.sk-estimator input.sk-toggleable__control:checked~label.sk-toggleable__label {background-color: #d4ebff;}#sk-container-id-6 div.sk-label input.sk-toggleable__control:checked~label.sk-toggleable__label {background-color: #d4ebff;}#sk-container-id-6 input.sk-hidden--visually {border: 0;clip: rect(1px 1px 1px 1px);clip: rect(1px, 1px, 1px, 1px);height: 1px;margin: -1px;overflow: hidden;padding: 0;position: absolute;width: 1px;}#sk-container-id-6 div.sk-estimator {font-family: monospace;background-color: #f0f8ff;border: 1px dotted black;border-radius: 0.25em;box-sizing: border-box;margin-bottom: 0.5em;}#sk-container-id-6 div.sk-estimator:hover {background-color: #d4ebff;}#sk-container-id-6 div.sk-parallel-item::after {content: \"\";width: 100%;border-bottom: 1px solid gray;flex-grow: 1;}#sk-container-id-6 div.sk-label:hover label.sk-toggleable__label {background-color: #d4ebff;}#sk-container-id-6 div.sk-serial::before {content: \"\";position: absolute;border-left: 1px solid gray;box-sizing: border-box;top: 0;bottom: 0;left: 50%;z-index: 0;}#sk-container-id-6 div.sk-serial {display: flex;flex-direction: column;align-items: center;background-color: white;padding-right: 0.2em;padding-left: 0.2em;position: relative;}#sk-container-id-6 div.sk-item {position: relative;z-index: 1;}#sk-container-id-6 div.sk-parallel {display: flex;align-items: stretch;justify-content: center;background-color: white;position: relative;}#sk-container-id-6 div.sk-item::before, #sk-container-id-6 div.sk-parallel-item::before {content: \"\";position: absolute;border-left: 1px solid gray;box-sizing: border-box;top: 0;bottom: 0;left: 50%;z-index: -1;}#sk-container-id-6 div.sk-parallel-item {display: flex;flex-direction: column;z-index: 1;position: relative;background-color: white;}#sk-container-id-6 div.sk-parallel-item:first-child::after {align-self: flex-end;width: 50%;}#sk-container-id-6 div.sk-parallel-item:last-child::after {align-self: flex-start;width: 50%;}#sk-container-id-6 div.sk-parallel-item:only-child::after {width: 0;}#sk-container-id-6 div.sk-dashed-wrapped {border: 1px dashed gray;margin: 0 0.4em 0.5em 0.4em;box-sizing: border-box;padding-bottom: 0.4em;background-color: white;}#sk-container-id-6 div.sk-label label {font-family: monospace;font-weight: bold;display: inline-block;line-height: 1.2em;}#sk-container-id-6 div.sk-label-container {text-align: center;}#sk-container-id-6 div.sk-container {/* jupyter's `normalize.less` sets `[hidden] { display: none; }` but bootstrap.min.css set `[hidden] { display: none !important; }` so we also need the `!important` here to be able to override the default hidden behavior on the sphinx rendered scikit-learn.org. See: https://github.com/scikit-learn/scikit-learn/issues/21755 */display: inline-block !important;position: relative;}#sk-container-id-6 div.sk-text-repr-fallback {display: none;}</style><div id=\"sk-container-id-6\" class=\"sk-top-container\"><div class=\"sk-text-repr-fallback\"><pre>LinearRegression()</pre><b>In a Jupyter environment, please rerun this cell to show the HTML representation or trust the notebook. <br />On GitHub, the HTML representation is unable to render, please try loading this page with nbviewer.org.</b></div><div class=\"sk-container\" hidden><div class=\"sk-item\"><div class=\"sk-estimator sk-toggleable\"><input class=\"sk-toggleable__control sk-hidden--visually\" id=\"sk-estimator-id-6\" type=\"checkbox\" checked><label for=\"sk-estimator-id-6\" class=\"sk-toggleable__label sk-toggleable__label-arrow\">LinearRegression</label><div class=\"sk-toggleable__content\"><pre>LinearRegression()</pre></div></div></div></div></div>"
      ],
      "text/plain": [
       "LinearRegression()"
      ]
     },
     "execution_count": 68,
     "metadata": {},
     "output_type": "execute_result"
    }
   ],
   "source": [
    "# Fit the regression to the training set of each variable.  This trains the model.\n",
    "regression.fit(X4_train, y1_train)"
   ]
  },
  {
   "cell_type": "code",
   "execution_count": 69,
   "id": "05ed908a",
   "metadata": {},
   "outputs": [],
   "source": [
    "# Apply model to x_test data to predict y values\n",
    "y1_predicted = regression.predict(X4_test)"
   ]
  },
  {
   "cell_type": "code",
   "execution_count": 70,
   "id": "782f1f18",
   "metadata": {},
   "outputs": [],
   "source": [
    "# Check the slope, MSE and R2 score.\n",
    "rmse = mean_squared_error(y1_test, y1_predicted)\n",
    "r2 = r2_score(y1_test, y1_predicted)"
   ]
  },
  {
   "cell_type": "code",
   "execution_count": 71,
   "id": "61cabd82",
   "metadata": {},
   "outputs": [
    {
     "name": "stdout",
     "output_type": "stream",
     "text": [
      "Slope: [ 988.18903418 1060.51078563]\n",
      "Mean squared error:  187061339.64639735\n",
      "R2 score:  -0.012137121875499313\n"
     ]
    }
   ],
   "source": [
    "# Print the model summary statistics. This is where you evaluate the performance of the model.\n",
    "\n",
    "print('Slope:' ,regression.coef_)\n",
    "print('Mean squared error: ', rmse)\n",
    "print('R2 score: ', r2)"
   ]
  },
  {
   "cell_type": "markdown",
   "id": "9a7e3749",
   "metadata": {},
   "source": [
    "### Train set"
   ]
  },
  {
   "cell_type": "code",
   "execution_count": 72,
   "id": "b79de908",
   "metadata": {},
   "outputs": [],
   "source": [
    "# Predict on the training set\n",
    "\n",
    "y_predicted_train = regression.predict(X4_train)"
   ]
  },
  {
   "cell_type": "code",
   "execution_count": 73,
   "id": "8f096891",
   "metadata": {},
   "outputs": [],
   "source": [
    "rmse = mean_squared_error(y1_train, y1_predicted_train)\n",
    "r2 = r2_score(y1_train, y1_predicted_train)"
   ]
  },
  {
   "cell_type": "code",
   "execution_count": 74,
   "id": "994a8fa7",
   "metadata": {},
   "outputs": [
    {
     "name": "stdout",
     "output_type": "stream",
     "text": [
      "Slope: [ 988.18903418 1060.51078563]\n",
      "Mean squared error:  224729006.6246692\n",
      "R2 score:  0.002208203723876978\n"
     ]
    }
   ],
   "source": [
    "print('Slope:' ,regression.coef_)\n",
    "print('Mean squared error: ', rmse)\n",
    "print('R2 score: ', r2)"
   ]
  },
  {
   "cell_type": "markdown",
   "id": "0710da32",
   "metadata": {},
   "source": [
    "Despite the slope values showing a positive relationship the r2 value in both the train and test set is very low indicating a poor fit model."
   ]
  },
  {
   "cell_type": "markdown",
   "id": "ab708b58",
   "metadata": {},
   "source": [
    "# Model 7 : Product name and Overall prices"
   ]
  },
  {
   "cell_type": "code",
   "execution_count": 75,
   "id": "efda582c",
   "metadata": {},
   "outputs": [],
   "source": [
    "X = df['Product Name']"
   ]
  },
  {
   "cell_type": "code",
   "execution_count": 76,
   "id": "fc955cc3",
   "metadata": {},
   "outputs": [
    {
     "data": {
      "text/html": [
       "<div>\n",
       "<style scoped>\n",
       "    .dataframe tbody tr th:only-of-type {\n",
       "        vertical-align: middle;\n",
       "    }\n",
       "\n",
       "    .dataframe tbody tr th {\n",
       "        vertical-align: top;\n",
       "    }\n",
       "\n",
       "    .dataframe thead th {\n",
       "        text-align: right;\n",
       "    }\n",
       "</style>\n",
       "<table border=\"1\" class=\"dataframe\">\n",
       "  <thead>\n",
       "    <tr style=\"text-align: right;\">\n",
       "      <th></th>\n",
       "      <th>Buttermilk</th>\n",
       "      <th>Cheese</th>\n",
       "      <th>Curd</th>\n",
       "      <th>Ghee</th>\n",
       "      <th>Ice Cream</th>\n",
       "      <th>Lassi</th>\n",
       "      <th>Milk</th>\n",
       "      <th>Paneer</th>\n",
       "      <th>Yogurt</th>\n",
       "    </tr>\n",
       "  </thead>\n",
       "  <tbody>\n",
       "    <tr>\n",
       "      <th>0</th>\n",
       "      <td>0</td>\n",
       "      <td>0</td>\n",
       "      <td>0</td>\n",
       "      <td>0</td>\n",
       "      <td>1</td>\n",
       "      <td>0</td>\n",
       "      <td>0</td>\n",
       "      <td>0</td>\n",
       "      <td>0</td>\n",
       "    </tr>\n",
       "    <tr>\n",
       "      <th>1</th>\n",
       "      <td>0</td>\n",
       "      <td>0</td>\n",
       "      <td>0</td>\n",
       "      <td>0</td>\n",
       "      <td>0</td>\n",
       "      <td>0</td>\n",
       "      <td>1</td>\n",
       "      <td>0</td>\n",
       "      <td>0</td>\n",
       "    </tr>\n",
       "    <tr>\n",
       "      <th>2</th>\n",
       "      <td>0</td>\n",
       "      <td>0</td>\n",
       "      <td>0</td>\n",
       "      <td>0</td>\n",
       "      <td>0</td>\n",
       "      <td>0</td>\n",
       "      <td>0</td>\n",
       "      <td>0</td>\n",
       "      <td>1</td>\n",
       "    </tr>\n",
       "    <tr>\n",
       "      <th>3</th>\n",
       "      <td>0</td>\n",
       "      <td>1</td>\n",
       "      <td>0</td>\n",
       "      <td>0</td>\n",
       "      <td>0</td>\n",
       "      <td>0</td>\n",
       "      <td>0</td>\n",
       "      <td>0</td>\n",
       "      <td>0</td>\n",
       "    </tr>\n",
       "    <tr>\n",
       "      <th>4</th>\n",
       "      <td>1</td>\n",
       "      <td>0</td>\n",
       "      <td>0</td>\n",
       "      <td>0</td>\n",
       "      <td>0</td>\n",
       "      <td>0</td>\n",
       "      <td>0</td>\n",
       "      <td>0</td>\n",
       "      <td>0</td>\n",
       "    </tr>\n",
       "  </tbody>\n",
       "</table>\n",
       "</div>"
      ],
      "text/plain": [
       "   Buttermilk  Cheese  Curd  Ghee  Ice Cream  Lassi  Milk  Paneer  Yogurt\n",
       "0           0       0     0     0          1      0     0       0       0\n",
       "1           0       0     0     0          0      0     1       0       0\n",
       "2           0       0     0     0          0      0     0       0       1\n",
       "3           0       1     0     0          0      0     0       0       0\n",
       "4           1       0     0     0          0      0     0       0       0"
      ]
     },
     "execution_count": 76,
     "metadata": {},
     "output_type": "execute_result"
    }
   ],
   "source": [
    "X = pd.get_dummies(data=X, drop_first=True)\n",
    "X.head()"
   ]
  },
  {
   "cell_type": "code",
   "execution_count": 77,
   "id": "41632a49",
   "metadata": {},
   "outputs": [],
   "source": [
    "y4 = df['Overall Prices']"
   ]
  },
  {
   "cell_type": "code",
   "execution_count": 78,
   "id": "a6201a9c",
   "metadata": {},
   "outputs": [],
   "source": [
    "# Split data into a training set and a test set.  Using test_train_split\n",
    "X_train,X_test,y4_train,y4_test = train_test_split(X,y4,test_size = 0.3,random_state = 0)\n"
   ]
  },
  {
   "cell_type": "markdown",
   "id": "ac237e28",
   "metadata": {},
   "source": [
    "### Test set"
   ]
  },
  {
   "cell_type": "code",
   "execution_count": 79,
   "id": "2f492711",
   "metadata": {},
   "outputs": [
    {
     "data": {
      "text/html": [
       "<style>#sk-container-id-7 {color: black;background-color: white;}#sk-container-id-7 pre{padding: 0;}#sk-container-id-7 div.sk-toggleable {background-color: white;}#sk-container-id-7 label.sk-toggleable__label {cursor: pointer;display: block;width: 100%;margin-bottom: 0;padding: 0.3em;box-sizing: border-box;text-align: center;}#sk-container-id-7 label.sk-toggleable__label-arrow:before {content: \"▸\";float: left;margin-right: 0.25em;color: #696969;}#sk-container-id-7 label.sk-toggleable__label-arrow:hover:before {color: black;}#sk-container-id-7 div.sk-estimator:hover label.sk-toggleable__label-arrow:before {color: black;}#sk-container-id-7 div.sk-toggleable__content {max-height: 0;max-width: 0;overflow: hidden;text-align: left;background-color: #f0f8ff;}#sk-container-id-7 div.sk-toggleable__content pre {margin: 0.2em;color: black;border-radius: 0.25em;background-color: #f0f8ff;}#sk-container-id-7 input.sk-toggleable__control:checked~div.sk-toggleable__content {max-height: 200px;max-width: 100%;overflow: auto;}#sk-container-id-7 input.sk-toggleable__control:checked~label.sk-toggleable__label-arrow:before {content: \"▾\";}#sk-container-id-7 div.sk-estimator input.sk-toggleable__control:checked~label.sk-toggleable__label {background-color: #d4ebff;}#sk-container-id-7 div.sk-label input.sk-toggleable__control:checked~label.sk-toggleable__label {background-color: #d4ebff;}#sk-container-id-7 input.sk-hidden--visually {border: 0;clip: rect(1px 1px 1px 1px);clip: rect(1px, 1px, 1px, 1px);height: 1px;margin: -1px;overflow: hidden;padding: 0;position: absolute;width: 1px;}#sk-container-id-7 div.sk-estimator {font-family: monospace;background-color: #f0f8ff;border: 1px dotted black;border-radius: 0.25em;box-sizing: border-box;margin-bottom: 0.5em;}#sk-container-id-7 div.sk-estimator:hover {background-color: #d4ebff;}#sk-container-id-7 div.sk-parallel-item::after {content: \"\";width: 100%;border-bottom: 1px solid gray;flex-grow: 1;}#sk-container-id-7 div.sk-label:hover label.sk-toggleable__label {background-color: #d4ebff;}#sk-container-id-7 div.sk-serial::before {content: \"\";position: absolute;border-left: 1px solid gray;box-sizing: border-box;top: 0;bottom: 0;left: 50%;z-index: 0;}#sk-container-id-7 div.sk-serial {display: flex;flex-direction: column;align-items: center;background-color: white;padding-right: 0.2em;padding-left: 0.2em;position: relative;}#sk-container-id-7 div.sk-item {position: relative;z-index: 1;}#sk-container-id-7 div.sk-parallel {display: flex;align-items: stretch;justify-content: center;background-color: white;position: relative;}#sk-container-id-7 div.sk-item::before, #sk-container-id-7 div.sk-parallel-item::before {content: \"\";position: absolute;border-left: 1px solid gray;box-sizing: border-box;top: 0;bottom: 0;left: 50%;z-index: -1;}#sk-container-id-7 div.sk-parallel-item {display: flex;flex-direction: column;z-index: 1;position: relative;background-color: white;}#sk-container-id-7 div.sk-parallel-item:first-child::after {align-self: flex-end;width: 50%;}#sk-container-id-7 div.sk-parallel-item:last-child::after {align-self: flex-start;width: 50%;}#sk-container-id-7 div.sk-parallel-item:only-child::after {width: 0;}#sk-container-id-7 div.sk-dashed-wrapped {border: 1px dashed gray;margin: 0 0.4em 0.5em 0.4em;box-sizing: border-box;padding-bottom: 0.4em;background-color: white;}#sk-container-id-7 div.sk-label label {font-family: monospace;font-weight: bold;display: inline-block;line-height: 1.2em;}#sk-container-id-7 div.sk-label-container {text-align: center;}#sk-container-id-7 div.sk-container {/* jupyter's `normalize.less` sets `[hidden] { display: none; }` but bootstrap.min.css set `[hidden] { display: none !important; }` so we also need the `!important` here to be able to override the default hidden behavior on the sphinx rendered scikit-learn.org. See: https://github.com/scikit-learn/scikit-learn/issues/21755 */display: inline-block !important;position: relative;}#sk-container-id-7 div.sk-text-repr-fallback {display: none;}</style><div id=\"sk-container-id-7\" class=\"sk-top-container\"><div class=\"sk-text-repr-fallback\"><pre>LinearRegression()</pre><b>In a Jupyter environment, please rerun this cell to show the HTML representation or trust the notebook. <br />On GitHub, the HTML representation is unable to render, please try loading this page with nbviewer.org.</b></div><div class=\"sk-container\" hidden><div class=\"sk-item\"><div class=\"sk-estimator sk-toggleable\"><input class=\"sk-toggleable__control sk-hidden--visually\" id=\"sk-estimator-id-7\" type=\"checkbox\" checked><label for=\"sk-estimator-id-7\" class=\"sk-toggleable__label sk-toggleable__label-arrow\">LinearRegression</label><div class=\"sk-toggleable__content\"><pre>LinearRegression()</pre></div></div></div></div></div>"
      ],
      "text/plain": [
       "LinearRegression()"
      ]
     },
     "execution_count": 79,
     "metadata": {},
     "output_type": "execute_result"
    }
   ],
   "source": [
    "# Fit the regression to the training set of each variable.  This trains the model.\n",
    "regression.fit(X_train, y4_train)"
   ]
  },
  {
   "cell_type": "code",
   "execution_count": 80,
   "id": "8ab32c46",
   "metadata": {},
   "outputs": [],
   "source": [
    "# Apply model to x_test data to predict y values\n",
    "y4_predicted = regression.predict(X_test)"
   ]
  },
  {
   "cell_type": "code",
   "execution_count": 81,
   "id": "81295e28",
   "metadata": {},
   "outputs": [],
   "source": [
    "# Check the slope, MSE and R2 score.\n",
    "rmse = mean_squared_error(y4_test, y4_predicted)\n",
    "r2 = r2_score(y4_test, y4_predicted)"
   ]
  },
  {
   "cell_type": "code",
   "execution_count": 82,
   "id": "9faa4a48",
   "metadata": {},
   "outputs": [
    {
     "name": "stdout",
     "output_type": "stream",
     "text": [
      "Slope: [-2.75084245 -4.44754771 -3.09848596 -3.51784896 -7.78889657 -3.67672705\n",
      " -1.40150217 -4.34786387 -4.3475566 ]\n",
      "Mean squared error:  689.0738670369011\n",
      "R2 score:  -0.009317570764701744\n"
     ]
    }
   ],
   "source": [
    "# Print the model summary statistics. This is where you evaluate the performance of the model.\n",
    "\n",
    "print('Slope:' ,regression.coef_)\n",
    "print('Mean squared error: ', rmse)\n",
    "print('R2 score: ', r2)"
   ]
  },
  {
   "cell_type": "markdown",
   "id": "4ce2640e",
   "metadata": {},
   "source": [
    "### Train set"
   ]
  },
  {
   "cell_type": "code",
   "execution_count": 83,
   "id": "a382c83f",
   "metadata": {},
   "outputs": [],
   "source": [
    "# Predict on the training set\n",
    "\n",
    "y4_predicted_train = regression.predict(X_train)"
   ]
  },
  {
   "cell_type": "code",
   "execution_count": 84,
   "id": "d16edcd9",
   "metadata": {},
   "outputs": [],
   "source": [
    "rmse = mean_squared_error(y4_train, y4_predicted_train)\n",
    "r2 = r2_score(y4_train, y4_predicted_train)"
   ]
  },
  {
   "cell_type": "code",
   "execution_count": 85,
   "id": "160b2ce4",
   "metadata": {},
   "outputs": [
    {
     "name": "stdout",
     "output_type": "stream",
     "text": [
      "Slope: [-2.75084245 -4.44754771 -3.09848596 -3.51784896 -7.78889657 -3.67672705\n",
      " -1.40150217 -4.34786387 -4.3475566 ]\n",
      "Mean squared error:  668.466772972537\n",
      "R2 score:  0.005648965297671671\n"
     ]
    }
   ],
   "source": [
    "print('Slope:' ,regression.coef_)\n",
    "print('Mean squared error: ', rmse)\n",
    "print('R2 score: ', r2)"
   ]
  },
  {
   "cell_type": "markdown",
   "id": "dc0e0f78",
   "metadata": {},
   "source": [
    "After seeing the values of r2 values of test and train sets it indicates a poor model fit between the variables."
   ]
  }
 ],
 "metadata": {
  "kernelspec": {
   "display_name": "Python 3 (ipykernel)",
   "language": "python",
   "name": "python3"
  },
  "language_info": {
   "codemirror_mode": {
    "name": "ipython",
    "version": 3
   },
   "file_extension": ".py",
   "mimetype": "text/x-python",
   "name": "python",
   "nbconvert_exporter": "python",
   "pygments_lexer": "ipython3",
   "version": "3.10.12"
  }
 },
 "nbformat": 4,
 "nbformat_minor": 5
}
